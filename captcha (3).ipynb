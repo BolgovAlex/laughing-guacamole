{
  "nbformat": 4,
  "nbformat_minor": 0,
  "metadata": {
    "colab": {
      "provenance": [],
      "gpuType": "T4"
    },
    "kernelspec": {
      "name": "python3",
      "display_name": "Python 3"
    },
    "language_info": {
      "name": "python"
    },
    "accelerator": "GPU"
  },
  "cells": [
    {
      "cell_type": "code",
      "source": [
        "import numpy as np\n",
        "from PIL import Image\n",
        "import pandas as pd\n",
        "import cv2\n",
        "import seaborn as sns\n",
        "import matplotlib.pyplot as plt\n",
        "import os\n",
        "from google.colab import drive\n",
        "from sklearn.model_selection import train_test_split\n",
        "drive.mount('/content/drive')"
      ],
      "metadata": {
        "id": "qbgz_EvxVgGl",
        "colab": {
          "base_uri": "https://localhost:8080/"
        },
        "outputId": "3dd3b877-9baa-4043-d02e-9426564a933a"
      },
      "execution_count": null,
      "outputs": [
        {
          "output_type": "stream",
          "name": "stdout",
          "text": [
            "Drive already mounted at /content/drive; to attempt to forcibly remount, call drive.mount(\"/content/drive\", force_remount=True).\n"
          ]
        }
      ]
    },
    {
      "cell_type": "markdown",
      "source": [
        "Всего у нас  1070 чб изображений, форматы могут как jpg, или img, так и другие. Каждое из них является капчей, состоящей из 5 символов. Названия картинок отображают содержание капчи. Например 2ap5g.jpg. Размеры каждого изображения - 50 на 200 пикселей. Для начала проверим, действительно ли используются все числа и буквы английского алфавита."
      ],
      "metadata": {
        "id": "x0Lwr3Svbvlx"
      }
    },
    {
      "cell_type": "code",
      "source": [
        "dir='/content/drive/My Drive/samples/samples'\n",
        "chars = {}\n",
        "for captcha in  os.listdir(dir):\n",
        "  for i in captcha.split(\".\")[0]:\n",
        "    chars[i] = chars.get(i, 0) +1\n",
        "print(len(chars))\n",
        "print(*chars.keys())"
      ],
      "metadata": {
        "colab": {
          "base_uri": "https://localhost:8080/"
        },
        "id": "iXAQnd5-cpkc",
        "outputId": "ec269e6e-4d1a-40f5-fe12-dbde7ef2605a"
      },
      "execution_count": null,
      "outputs": [
        {
          "output_type": "stream",
          "name": "stdout",
          "text": [
            "19\n",
            "d 7 n 3 4 2 w 6 f 5 x p c y m g e b 8\n"
          ]
        }
      ]
    },
    {
      "cell_type": "markdown",
      "source": [
        "Видим, что используется всего 19 символов, значит будем тренировать нашу модель всего на 19 символах, что позволит нам существенно улучшить результат. Подготовим наши данные. Будем сопоставлять в y не саму расшифрованную капчу, а матрицу размера 5 (длина любой капчи) на 19 (количество символов). Так у нас для каждой картинки будет матрица, в которой будет по 1 единице в строчке - в столбце, в котором стоит символ"
      ],
      "metadata": {
        "id": "EI9rN214dlbp"
      }
    },
    {
      "cell_type": "code",
      "source": [
        "X = np.zeros((1070, 50, 200, 1))  # Добавляем дополнительное измерение для канала\n",
        "y = np.zeros((5, 1070, 19))\n",
        "symbols = list(chars.keys())\n",
        "print(symbols)\n",
        "for i, captcha in enumerate(os.listdir(dir)):\n",
        "    captcha_without_format = captcha.split(\".\")[0]\n",
        "    captcha_image = cv2.imread(os.path.join(dir, captcha), cv2.IMREAD_GRAYSCALE) / 255.0 #нормируем\n",
        "    captcha_image = np.expand_dims(captcha_image, axis=-1)  # Добавляем дополнительное измерение\n",
        "    matr = np.zeros((5, 19))\n",
        "    X[i] = captcha_image\n",
        "    for place, symbol in enumerate(captcha_without_format):\n",
        "        matr[place, list(chars.keys()).index(symbol)] = 1\n",
        "    y[:, i] = matr\n",
        "\n",
        "print(X.shape)"
      ],
      "metadata": {
        "id": "MpmoV5fHgAG3",
        "colab": {
          "base_uri": "https://localhost:8080/"
        },
        "outputId": "350f7e81-58ae-4630-f7e4-ba7503cdec9f"
      },
      "execution_count": null,
      "outputs": [
        {
          "output_type": "stream",
          "name": "stdout",
          "text": [
            "['d', '7', 'n', '3', '4', '2', 'w', '6', 'f', '5', 'x', 'p', 'c', 'y', 'm', 'g', 'e', 'b', '8']\n",
            "(1070, 50, 200, 1)\n"
          ]
        }
      ]
    },
    {
      "cell_type": "markdown",
      "source": [
        "Разделим данные на тренировочные, тестовые и валидационные вручную, потому что мне не охота возиться. Будем использовать следующие пропорции: 0.7 на тренировочные, 0.15 на тестовые и 0.15 на валидационные данные."
      ],
      "metadata": {
        "id": "kZI2ZC2_mcKG"
      }
    },
    {
      "cell_type": "code",
      "source": [
        "X_train = X[: 749]\n",
        "y_train = y[:, :749]\n",
        "X_val = X[749 : 910]\n",
        "y_val = y[:, 749 : 910]\n",
        "X_test = X[910:]\n",
        "y_test = y[:, 910:]\n",
        "# Перемешивание тренировочных данных\n",
        "train_indices = np.arange(X_train.shape[0])\n",
        "np.random.shuffle(train_indices)\n",
        "X_train = X_train[train_indices]\n",
        "y_train = y_train[:, train_indices]\n",
        "\n",
        "# Перемешивание тестовых данных\n",
        "test_indices = np.arange(X_test.shape[0])\n",
        "np.random.shuffle(test_indices)\n",
        "X_test = X_test[test_indices]\n",
        "y_test = y_test[:, test_indices]\n",
        "\n",
        "# Перемешивание валидационных данных\n",
        "val_indices = np.arange(X_val.shape[0])\n",
        "np.random.shuffle(val_indices)\n",
        "X_val = X_val[val_indices]\n",
        "y_val = y_val[:, val_indices]\n",
        "\n",
        "y_train = np.transpose(y_train, (1, 0, 2))\n",
        "y_test = np.transpose(y_test, (1, 0, 2))\n",
        "y_val = np.transpose(y_val, (1, 0, 2))\n",
        "\n",
        "# Проверка формы разделенных данных\n",
        "print(\"X_train shape:\", X_train.shape)\n",
        "print(\"y_train shape:\", y_train.shape)\n",
        "print(\"X_test shape:\", X_test.shape)\n",
        "print(\"y_test shape:\", y_test.shape)\n",
        "print(\"X_val shape:\", X_val.shape)\n",
        "print(\"y_val shape:\", y_val.shape)"
      ],
      "metadata": {
        "colab": {
          "base_uri": "https://localhost:8080/"
        },
        "id": "2F4Xhw6Hmi_k",
        "outputId": "24f80c0a-8e6f-4e41-d280-88efdfa3bc5f"
      },
      "execution_count": null,
      "outputs": [
        {
          "output_type": "stream",
          "name": "stdout",
          "text": [
            "X_train shape: (749, 50, 200, 1)\n",
            "y_train shape: (749, 5, 19)\n",
            "X_test shape: (160, 50, 200, 1)\n",
            "y_test shape: (160, 5, 19)\n",
            "X_val shape: (161, 50, 200, 1)\n",
            "y_val shape: (161, 5, 19)\n"
          ]
        }
      ]
    },
    {
      "cell_type": "markdown",
      "source": [
        "Я собираюсь использовать сверточную нейронную сеть для решения задачи, ведь они как раз подходят для работы с изображениями."
      ],
      "metadata": {
        "id": "ddcZgqTFqBsU"
      }
    },
    {
      "cell_type": "code",
      "source": [
        "from keras.models import Sequential\n",
        "from keras.layers import Dense\n",
        "from keras.layers import Conv2D\n",
        "from keras.layers import Flatten\n",
        "from keras.layers import MaxPooling2D\n",
        "from keras.layers import BatchNormalization\n",
        "from keras.models import Model\n",
        "from keras.layers import Dropout\n",
        "from keras.layers import Input\n",
        "from keras.layers import Reshape\n",
        "import keras"
      ],
      "metadata": {
        "id": "hKRe1QqbvdG7"
      },
      "execution_count": null,
      "outputs": []
    },
    {
      "cell_type": "code",
      "source": [
        "def build_model_4():\n",
        "    # Входной слой\n",
        "    inp_layer = Input(shape=(50, 200, 1))  # Входные данные имеют форму (50, 200, 1)\n",
        "\n",
        "    # Первый сверточный слой\n",
        "    convol_layer_1 = Conv2D(32, (3, 3), padding='same', activation='relu')(inp_layer)  # 32 фильтра размером 3x3\n",
        "    pool_1 = MaxPooling2D((2, 2), padding='same')(convol_layer_1)\n",
        "\n",
        "    # Второй сверточный слой\n",
        "    convol_layer_2 = Conv2D(64, (3, 3), padding='same', activation='relu')(pool_1)\n",
        "    pool_2 = MaxPooling2D((2, 2), padding='same')(convol_layer_2)\n",
        "\n",
        "    # третий сверточный слой\n",
        "    convol_layer_3 = Conv2D(128, (3, 3), padding='same', activation='relu')(pool_2)\n",
        "    pool_3 = MaxPooling2D((2, 2), padding='same')(convol_layer_3)\n",
        "\n",
        "    fl = Flatten()(pool_3)\n",
        "    x = Dropout(0.4)(fl)\n",
        "    # пытаемся предотвратить переобучение\n",
        "    x = BatchNormalization()(x)\n",
        "    outputs = []\n",
        "\n",
        "\n",
        "    # для каждой отдельной буквы создаем отдельную как бы ветку, чтобы можно было угадывать ее отдельно\n",
        "    dense1 = Dense(64 , activation='relu')(x)\n",
        "    dropout1= Dropout(0.5)(dense1)\n",
        "    dpo1 = BatchNormalization()(dropout1)\n",
        "    output1 = Dense(19 , activation='softmax')(dpo1)\n",
        "    outputs.append(output1)\n",
        "\n",
        "    dense2 = Dense(64 , activation='relu')(x)\n",
        "    dropout2= Dropout(0.5)(dense2)\n",
        "    dpo2 = BatchNormalization()(dropout2)\n",
        "    output2 = Dense(19 , activation='softmax')(dpo2)\n",
        "    outputs.append(output2)\n",
        "\n",
        "    dense3 = Dense(64 , activation='relu')(x)\n",
        "    dropout3= Dropout(0.5)(dense3)\n",
        "    dpo3 = BatchNormalization()(dropout3)\n",
        "    output3 = Dense(19 , activation='softmax')(dpo3)\n",
        "    outputs.append(output3)\n",
        "\n",
        "    dense4 = Dense(64 , activation='relu')(x)\n",
        "    dropout4= Dropout(0.5)(dense4)\n",
        "    dpo4 = BatchNormalization()(dropout4)\n",
        "    output4 = Dense(19 , activation='softmax')(dpo4)\n",
        "    outputs.append(output4)\n",
        "\n",
        "    dense5 = Dense(64 , activation='relu')(x)\n",
        "    dropout5= Dropout(0.5)(dense5)\n",
        "    dpo5 = BatchNormalization()(dropout5)\n",
        "    output5 = Dense(19 , activation='softmax')(dpo5)\n",
        "    outputs.append(output5)\n",
        "\n",
        "    model = Model(inputs=inp_layer, outputs=outputs)\n",
        "\n",
        "    model.compile(optimizer=keras.optimizers.Adam(learning_rate=0.0005), loss=\"categorical_crossentropy\", metrics=[\"accuracy\"] * 5)\n",
        "\n",
        "    return model\n",
        "\n",
        "model_4 = build_model_4()\n",
        "model_4.summary()\n"
      ],
      "metadata": {
        "colab": {
          "base_uri": "https://localhost:8080/",
          "height": 1000
        },
        "id": "NhoWb8W-e9g6",
        "outputId": "195df3e8-98f5-40f9-816b-91dc6943e32d"
      },
      "execution_count": null,
      "outputs": [
        {
          "output_type": "display_data",
          "data": {
            "text/plain": [
              "\u001b[1mModel: \"functional_1\"\u001b[0m\n"
            ],
            "text/html": [
              "<pre style=\"white-space:pre;overflow-x:auto;line-height:normal;font-family:Menlo,'DejaVu Sans Mono',consolas,'Courier New',monospace\"><span style=\"font-weight: bold\">Model: \"functional_1\"</span>\n",
              "</pre>\n"
            ]
          },
          "metadata": {}
        },
        {
          "output_type": "display_data",
          "data": {
            "text/plain": [
              "┏━━━━━━━━━━━━━━━━━━━━━━━━━━━┳━━━━━━━━━━━━━━━━━━━━━━━━┳━━━━━━━━━━━━━━━━┳━━━━━━━━━━━━━━━━━━━━━━━━┓\n",
              "┃\u001b[1m \u001b[0m\u001b[1mLayer (type)             \u001b[0m\u001b[1m \u001b[0m┃\u001b[1m \u001b[0m\u001b[1mOutput Shape          \u001b[0m\u001b[1m \u001b[0m┃\u001b[1m \u001b[0m\u001b[1m       Param #\u001b[0m\u001b[1m \u001b[0m┃\u001b[1m \u001b[0m\u001b[1mConnected to          \u001b[0m\u001b[1m \u001b[0m┃\n",
              "┡━━━━━━━━━━━━━━━━━━━━━━━━━━━╇━━━━━━━━━━━━━━━━━━━━━━━━╇━━━━━━━━━━━━━━━━╇━━━━━━━━━━━━━━━━━━━━━━━━┩\n",
              "│ input_layer_1             │ (\u001b[38;5;45mNone\u001b[0m, \u001b[38;5;34m50\u001b[0m, \u001b[38;5;34m200\u001b[0m, \u001b[38;5;34m1\u001b[0m)     │              \u001b[38;5;34m0\u001b[0m │ -                      │\n",
              "│ (\u001b[38;5;33mInputLayer\u001b[0m)              │                        │                │                        │\n",
              "├───────────────────────────┼────────────────────────┼────────────────┼────────────────────────┤\n",
              "│ conv2d_3 (\u001b[38;5;33mConv2D\u001b[0m)         │ (\u001b[38;5;45mNone\u001b[0m, \u001b[38;5;34m50\u001b[0m, \u001b[38;5;34m200\u001b[0m, \u001b[38;5;34m32\u001b[0m)    │            \u001b[38;5;34m320\u001b[0m │ input_layer_1[\u001b[38;5;34m0\u001b[0m][\u001b[38;5;34m0\u001b[0m]    │\n",
              "├───────────────────────────┼────────────────────────┼────────────────┼────────────────────────┤\n",
              "│ max_pooling2d_3           │ (\u001b[38;5;45mNone\u001b[0m, \u001b[38;5;34m25\u001b[0m, \u001b[38;5;34m100\u001b[0m, \u001b[38;5;34m32\u001b[0m)    │              \u001b[38;5;34m0\u001b[0m │ conv2d_3[\u001b[38;5;34m0\u001b[0m][\u001b[38;5;34m0\u001b[0m]         │\n",
              "│ (\u001b[38;5;33mMaxPooling2D\u001b[0m)            │                        │                │                        │\n",
              "├───────────────────────────┼────────────────────────┼────────────────┼────────────────────────┤\n",
              "│ conv2d_4 (\u001b[38;5;33mConv2D\u001b[0m)         │ (\u001b[38;5;45mNone\u001b[0m, \u001b[38;5;34m25\u001b[0m, \u001b[38;5;34m100\u001b[0m, \u001b[38;5;34m64\u001b[0m)    │         \u001b[38;5;34m18,496\u001b[0m │ max_pooling2d_3[\u001b[38;5;34m0\u001b[0m][\u001b[38;5;34m0\u001b[0m]  │\n",
              "├───────────────────────────┼────────────────────────┼────────────────┼────────────────────────┤\n",
              "│ max_pooling2d_4           │ (\u001b[38;5;45mNone\u001b[0m, \u001b[38;5;34m13\u001b[0m, \u001b[38;5;34m50\u001b[0m, \u001b[38;5;34m64\u001b[0m)     │              \u001b[38;5;34m0\u001b[0m │ conv2d_4[\u001b[38;5;34m0\u001b[0m][\u001b[38;5;34m0\u001b[0m]         │\n",
              "│ (\u001b[38;5;33mMaxPooling2D\u001b[0m)            │                        │                │                        │\n",
              "├───────────────────────────┼────────────────────────┼────────────────┼────────────────────────┤\n",
              "│ conv2d_5 (\u001b[38;5;33mConv2D\u001b[0m)         │ (\u001b[38;5;45mNone\u001b[0m, \u001b[38;5;34m13\u001b[0m, \u001b[38;5;34m50\u001b[0m, \u001b[38;5;34m128\u001b[0m)    │         \u001b[38;5;34m73,856\u001b[0m │ max_pooling2d_4[\u001b[38;5;34m0\u001b[0m][\u001b[38;5;34m0\u001b[0m]  │\n",
              "├───────────────────────────┼────────────────────────┼────────────────┼────────────────────────┤\n",
              "│ max_pooling2d_5           │ (\u001b[38;5;45mNone\u001b[0m, \u001b[38;5;34m7\u001b[0m, \u001b[38;5;34m25\u001b[0m, \u001b[38;5;34m128\u001b[0m)     │              \u001b[38;5;34m0\u001b[0m │ conv2d_5[\u001b[38;5;34m0\u001b[0m][\u001b[38;5;34m0\u001b[0m]         │\n",
              "│ (\u001b[38;5;33mMaxPooling2D\u001b[0m)            │                        │                │                        │\n",
              "├───────────────────────────┼────────────────────────┼────────────────┼────────────────────────┤\n",
              "│ flatten_1 (\u001b[38;5;33mFlatten\u001b[0m)       │ (\u001b[38;5;45mNone\u001b[0m, \u001b[38;5;34m22400\u001b[0m)          │              \u001b[38;5;34m0\u001b[0m │ max_pooling2d_5[\u001b[38;5;34m0\u001b[0m][\u001b[38;5;34m0\u001b[0m]  │\n",
              "├───────────────────────────┼────────────────────────┼────────────────┼────────────────────────┤\n",
              "│ dropout_6 (\u001b[38;5;33mDropout\u001b[0m)       │ (\u001b[38;5;45mNone\u001b[0m, \u001b[38;5;34m22400\u001b[0m)          │              \u001b[38;5;34m0\u001b[0m │ flatten_1[\u001b[38;5;34m0\u001b[0m][\u001b[38;5;34m0\u001b[0m]        │\n",
              "├───────────────────────────┼────────────────────────┼────────────────┼────────────────────────┤\n",
              "│ batch_normalization_6     │ (\u001b[38;5;45mNone\u001b[0m, \u001b[38;5;34m22400\u001b[0m)          │         \u001b[38;5;34m89,600\u001b[0m │ dropout_6[\u001b[38;5;34m0\u001b[0m][\u001b[38;5;34m0\u001b[0m]        │\n",
              "│ (\u001b[38;5;33mBatchNormalization\u001b[0m)      │                        │                │                        │\n",
              "├───────────────────────────┼────────────────────────┼────────────────┼────────────────────────┤\n",
              "│ dense_10 (\u001b[38;5;33mDense\u001b[0m)          │ (\u001b[38;5;45mNone\u001b[0m, \u001b[38;5;34m64\u001b[0m)             │      \u001b[38;5;34m1,433,664\u001b[0m │ batch_normalization_6… │\n",
              "├───────────────────────────┼────────────────────────┼────────────────┼────────────────────────┤\n",
              "│ dense_12 (\u001b[38;5;33mDense\u001b[0m)          │ (\u001b[38;5;45mNone\u001b[0m, \u001b[38;5;34m64\u001b[0m)             │      \u001b[38;5;34m1,433,664\u001b[0m │ batch_normalization_6… │\n",
              "├───────────────────────────┼────────────────────────┼────────────────┼────────────────────────┤\n",
              "│ dense_14 (\u001b[38;5;33mDense\u001b[0m)          │ (\u001b[38;5;45mNone\u001b[0m, \u001b[38;5;34m64\u001b[0m)             │      \u001b[38;5;34m1,433,664\u001b[0m │ batch_normalization_6… │\n",
              "├───────────────────────────┼────────────────────────┼────────────────┼────────────────────────┤\n",
              "│ dense_16 (\u001b[38;5;33mDense\u001b[0m)          │ (\u001b[38;5;45mNone\u001b[0m, \u001b[38;5;34m64\u001b[0m)             │      \u001b[38;5;34m1,433,664\u001b[0m │ batch_normalization_6… │\n",
              "├───────────────────────────┼────────────────────────┼────────────────┼────────────────────────┤\n",
              "│ dense_18 (\u001b[38;5;33mDense\u001b[0m)          │ (\u001b[38;5;45mNone\u001b[0m, \u001b[38;5;34m64\u001b[0m)             │      \u001b[38;5;34m1,433,664\u001b[0m │ batch_normalization_6… │\n",
              "├───────────────────────────┼────────────────────────┼────────────────┼────────────────────────┤\n",
              "│ dropout_7 (\u001b[38;5;33mDropout\u001b[0m)       │ (\u001b[38;5;45mNone\u001b[0m, \u001b[38;5;34m64\u001b[0m)             │              \u001b[38;5;34m0\u001b[0m │ dense_10[\u001b[38;5;34m0\u001b[0m][\u001b[38;5;34m0\u001b[0m]         │\n",
              "├───────────────────────────┼────────────────────────┼────────────────┼────────────────────────┤\n",
              "│ dropout_8 (\u001b[38;5;33mDropout\u001b[0m)       │ (\u001b[38;5;45mNone\u001b[0m, \u001b[38;5;34m64\u001b[0m)             │              \u001b[38;5;34m0\u001b[0m │ dense_12[\u001b[38;5;34m0\u001b[0m][\u001b[38;5;34m0\u001b[0m]         │\n",
              "├───────────────────────────┼────────────────────────┼────────────────┼────────────────────────┤\n",
              "│ dropout_9 (\u001b[38;5;33mDropout\u001b[0m)       │ (\u001b[38;5;45mNone\u001b[0m, \u001b[38;5;34m64\u001b[0m)             │              \u001b[38;5;34m0\u001b[0m │ dense_14[\u001b[38;5;34m0\u001b[0m][\u001b[38;5;34m0\u001b[0m]         │\n",
              "├───────────────────────────┼────────────────────────┼────────────────┼────────────────────────┤\n",
              "│ dropout_10 (\u001b[38;5;33mDropout\u001b[0m)      │ (\u001b[38;5;45mNone\u001b[0m, \u001b[38;5;34m64\u001b[0m)             │              \u001b[38;5;34m0\u001b[0m │ dense_16[\u001b[38;5;34m0\u001b[0m][\u001b[38;5;34m0\u001b[0m]         │\n",
              "├───────────────────────────┼────────────────────────┼────────────────┼────────────────────────┤\n",
              "│ dropout_11 (\u001b[38;5;33mDropout\u001b[0m)      │ (\u001b[38;5;45mNone\u001b[0m, \u001b[38;5;34m64\u001b[0m)             │              \u001b[38;5;34m0\u001b[0m │ dense_18[\u001b[38;5;34m0\u001b[0m][\u001b[38;5;34m0\u001b[0m]         │\n",
              "├───────────────────────────┼────────────────────────┼────────────────┼────────────────────────┤\n",
              "│ batch_normalization_7     │ (\u001b[38;5;45mNone\u001b[0m, \u001b[38;5;34m64\u001b[0m)             │            \u001b[38;5;34m256\u001b[0m │ dropout_7[\u001b[38;5;34m0\u001b[0m][\u001b[38;5;34m0\u001b[0m]        │\n",
              "│ (\u001b[38;5;33mBatchNormalization\u001b[0m)      │                        │                │                        │\n",
              "├───────────────────────────┼────────────────────────┼────────────────┼────────────────────────┤\n",
              "│ batch_normalization_8     │ (\u001b[38;5;45mNone\u001b[0m, \u001b[38;5;34m64\u001b[0m)             │            \u001b[38;5;34m256\u001b[0m │ dropout_8[\u001b[38;5;34m0\u001b[0m][\u001b[38;5;34m0\u001b[0m]        │\n",
              "│ (\u001b[38;5;33mBatchNormalization\u001b[0m)      │                        │                │                        │\n",
              "├───────────────────────────┼────────────────────────┼────────────────┼────────────────────────┤\n",
              "│ batch_normalization_9     │ (\u001b[38;5;45mNone\u001b[0m, \u001b[38;5;34m64\u001b[0m)             │            \u001b[38;5;34m256\u001b[0m │ dropout_9[\u001b[38;5;34m0\u001b[0m][\u001b[38;5;34m0\u001b[0m]        │\n",
              "│ (\u001b[38;5;33mBatchNormalization\u001b[0m)      │                        │                │                        │\n",
              "├───────────────────────────┼────────────────────────┼────────────────┼────────────────────────┤\n",
              "│ batch_normalization_10    │ (\u001b[38;5;45mNone\u001b[0m, \u001b[38;5;34m64\u001b[0m)             │            \u001b[38;5;34m256\u001b[0m │ dropout_10[\u001b[38;5;34m0\u001b[0m][\u001b[38;5;34m0\u001b[0m]       │\n",
              "│ (\u001b[38;5;33mBatchNormalization\u001b[0m)      │                        │                │                        │\n",
              "├───────────────────────────┼────────────────────────┼────────────────┼────────────────────────┤\n",
              "│ batch_normalization_11    │ (\u001b[38;5;45mNone\u001b[0m, \u001b[38;5;34m64\u001b[0m)             │            \u001b[38;5;34m256\u001b[0m │ dropout_11[\u001b[38;5;34m0\u001b[0m][\u001b[38;5;34m0\u001b[0m]       │\n",
              "│ (\u001b[38;5;33mBatchNormalization\u001b[0m)      │                        │                │                        │\n",
              "├───────────────────────────┼────────────────────────┼────────────────┼────────────────────────┤\n",
              "│ dense_11 (\u001b[38;5;33mDense\u001b[0m)          │ (\u001b[38;5;45mNone\u001b[0m, \u001b[38;5;34m19\u001b[0m)             │          \u001b[38;5;34m1,235\u001b[0m │ batch_normalization_7… │\n",
              "├───────────────────────────┼────────────────────────┼────────────────┼────────────────────────┤\n",
              "│ dense_13 (\u001b[38;5;33mDense\u001b[0m)          │ (\u001b[38;5;45mNone\u001b[0m, \u001b[38;5;34m19\u001b[0m)             │          \u001b[38;5;34m1,235\u001b[0m │ batch_normalization_8… │\n",
              "├───────────────────────────┼────────────────────────┼────────────────┼────────────────────────┤\n",
              "│ dense_15 (\u001b[38;5;33mDense\u001b[0m)          │ (\u001b[38;5;45mNone\u001b[0m, \u001b[38;5;34m19\u001b[0m)             │          \u001b[38;5;34m1,235\u001b[0m │ batch_normalization_9… │\n",
              "├───────────────────────────┼────────────────────────┼────────────────┼────────────────────────┤\n",
              "│ dense_17 (\u001b[38;5;33mDense\u001b[0m)          │ (\u001b[38;5;45mNone\u001b[0m, \u001b[38;5;34m19\u001b[0m)             │          \u001b[38;5;34m1,235\u001b[0m │ batch_normalization_1… │\n",
              "├───────────────────────────┼────────────────────────┼────────────────┼────────────────────────┤\n",
              "│ dense_19 (\u001b[38;5;33mDense\u001b[0m)          │ (\u001b[38;5;45mNone\u001b[0m, \u001b[38;5;34m19\u001b[0m)             │          \u001b[38;5;34m1,235\u001b[0m │ batch_normalization_1… │\n",
              "└───────────────────────────┴────────────────────────┴────────────────┴────────────────────────┘\n"
            ],
            "text/html": [
              "<pre style=\"white-space:pre;overflow-x:auto;line-height:normal;font-family:Menlo,'DejaVu Sans Mono',consolas,'Courier New',monospace\">┏━━━━━━━━━━━━━━━━━━━━━━━━━━━┳━━━━━━━━━━━━━━━━━━━━━━━━┳━━━━━━━━━━━━━━━━┳━━━━━━━━━━━━━━━━━━━━━━━━┓\n",
              "┃<span style=\"font-weight: bold\"> Layer (type)              </span>┃<span style=\"font-weight: bold\"> Output Shape           </span>┃<span style=\"font-weight: bold\">        Param # </span>┃<span style=\"font-weight: bold\"> Connected to           </span>┃\n",
              "┡━━━━━━━━━━━━━━━━━━━━━━━━━━━╇━━━━━━━━━━━━━━━━━━━━━━━━╇━━━━━━━━━━━━━━━━╇━━━━━━━━━━━━━━━━━━━━━━━━┩\n",
              "│ input_layer_1             │ (<span style=\"color: #00d7ff; text-decoration-color: #00d7ff\">None</span>, <span style=\"color: #00af00; text-decoration-color: #00af00\">50</span>, <span style=\"color: #00af00; text-decoration-color: #00af00\">200</span>, <span style=\"color: #00af00; text-decoration-color: #00af00\">1</span>)     │              <span style=\"color: #00af00; text-decoration-color: #00af00\">0</span> │ -                      │\n",
              "│ (<span style=\"color: #0087ff; text-decoration-color: #0087ff\">InputLayer</span>)              │                        │                │                        │\n",
              "├───────────────────────────┼────────────────────────┼────────────────┼────────────────────────┤\n",
              "│ conv2d_3 (<span style=\"color: #0087ff; text-decoration-color: #0087ff\">Conv2D</span>)         │ (<span style=\"color: #00d7ff; text-decoration-color: #00d7ff\">None</span>, <span style=\"color: #00af00; text-decoration-color: #00af00\">50</span>, <span style=\"color: #00af00; text-decoration-color: #00af00\">200</span>, <span style=\"color: #00af00; text-decoration-color: #00af00\">32</span>)    │            <span style=\"color: #00af00; text-decoration-color: #00af00\">320</span> │ input_layer_1[<span style=\"color: #00af00; text-decoration-color: #00af00\">0</span>][<span style=\"color: #00af00; text-decoration-color: #00af00\">0</span>]    │\n",
              "├───────────────────────────┼────────────────────────┼────────────────┼────────────────────────┤\n",
              "│ max_pooling2d_3           │ (<span style=\"color: #00d7ff; text-decoration-color: #00d7ff\">None</span>, <span style=\"color: #00af00; text-decoration-color: #00af00\">25</span>, <span style=\"color: #00af00; text-decoration-color: #00af00\">100</span>, <span style=\"color: #00af00; text-decoration-color: #00af00\">32</span>)    │              <span style=\"color: #00af00; text-decoration-color: #00af00\">0</span> │ conv2d_3[<span style=\"color: #00af00; text-decoration-color: #00af00\">0</span>][<span style=\"color: #00af00; text-decoration-color: #00af00\">0</span>]         │\n",
              "│ (<span style=\"color: #0087ff; text-decoration-color: #0087ff\">MaxPooling2D</span>)            │                        │                │                        │\n",
              "├───────────────────────────┼────────────────────────┼────────────────┼────────────────────────┤\n",
              "│ conv2d_4 (<span style=\"color: #0087ff; text-decoration-color: #0087ff\">Conv2D</span>)         │ (<span style=\"color: #00d7ff; text-decoration-color: #00d7ff\">None</span>, <span style=\"color: #00af00; text-decoration-color: #00af00\">25</span>, <span style=\"color: #00af00; text-decoration-color: #00af00\">100</span>, <span style=\"color: #00af00; text-decoration-color: #00af00\">64</span>)    │         <span style=\"color: #00af00; text-decoration-color: #00af00\">18,496</span> │ max_pooling2d_3[<span style=\"color: #00af00; text-decoration-color: #00af00\">0</span>][<span style=\"color: #00af00; text-decoration-color: #00af00\">0</span>]  │\n",
              "├───────────────────────────┼────────────────────────┼────────────────┼────────────────────────┤\n",
              "│ max_pooling2d_4           │ (<span style=\"color: #00d7ff; text-decoration-color: #00d7ff\">None</span>, <span style=\"color: #00af00; text-decoration-color: #00af00\">13</span>, <span style=\"color: #00af00; text-decoration-color: #00af00\">50</span>, <span style=\"color: #00af00; text-decoration-color: #00af00\">64</span>)     │              <span style=\"color: #00af00; text-decoration-color: #00af00\">0</span> │ conv2d_4[<span style=\"color: #00af00; text-decoration-color: #00af00\">0</span>][<span style=\"color: #00af00; text-decoration-color: #00af00\">0</span>]         │\n",
              "│ (<span style=\"color: #0087ff; text-decoration-color: #0087ff\">MaxPooling2D</span>)            │                        │                │                        │\n",
              "├───────────────────────────┼────────────────────────┼────────────────┼────────────────────────┤\n",
              "│ conv2d_5 (<span style=\"color: #0087ff; text-decoration-color: #0087ff\">Conv2D</span>)         │ (<span style=\"color: #00d7ff; text-decoration-color: #00d7ff\">None</span>, <span style=\"color: #00af00; text-decoration-color: #00af00\">13</span>, <span style=\"color: #00af00; text-decoration-color: #00af00\">50</span>, <span style=\"color: #00af00; text-decoration-color: #00af00\">128</span>)    │         <span style=\"color: #00af00; text-decoration-color: #00af00\">73,856</span> │ max_pooling2d_4[<span style=\"color: #00af00; text-decoration-color: #00af00\">0</span>][<span style=\"color: #00af00; text-decoration-color: #00af00\">0</span>]  │\n",
              "├───────────────────────────┼────────────────────────┼────────────────┼────────────────────────┤\n",
              "│ max_pooling2d_5           │ (<span style=\"color: #00d7ff; text-decoration-color: #00d7ff\">None</span>, <span style=\"color: #00af00; text-decoration-color: #00af00\">7</span>, <span style=\"color: #00af00; text-decoration-color: #00af00\">25</span>, <span style=\"color: #00af00; text-decoration-color: #00af00\">128</span>)     │              <span style=\"color: #00af00; text-decoration-color: #00af00\">0</span> │ conv2d_5[<span style=\"color: #00af00; text-decoration-color: #00af00\">0</span>][<span style=\"color: #00af00; text-decoration-color: #00af00\">0</span>]         │\n",
              "│ (<span style=\"color: #0087ff; text-decoration-color: #0087ff\">MaxPooling2D</span>)            │                        │                │                        │\n",
              "├───────────────────────────┼────────────────────────┼────────────────┼────────────────────────┤\n",
              "│ flatten_1 (<span style=\"color: #0087ff; text-decoration-color: #0087ff\">Flatten</span>)       │ (<span style=\"color: #00d7ff; text-decoration-color: #00d7ff\">None</span>, <span style=\"color: #00af00; text-decoration-color: #00af00\">22400</span>)          │              <span style=\"color: #00af00; text-decoration-color: #00af00\">0</span> │ max_pooling2d_5[<span style=\"color: #00af00; text-decoration-color: #00af00\">0</span>][<span style=\"color: #00af00; text-decoration-color: #00af00\">0</span>]  │\n",
              "├───────────────────────────┼────────────────────────┼────────────────┼────────────────────────┤\n",
              "│ dropout_6 (<span style=\"color: #0087ff; text-decoration-color: #0087ff\">Dropout</span>)       │ (<span style=\"color: #00d7ff; text-decoration-color: #00d7ff\">None</span>, <span style=\"color: #00af00; text-decoration-color: #00af00\">22400</span>)          │              <span style=\"color: #00af00; text-decoration-color: #00af00\">0</span> │ flatten_1[<span style=\"color: #00af00; text-decoration-color: #00af00\">0</span>][<span style=\"color: #00af00; text-decoration-color: #00af00\">0</span>]        │\n",
              "├───────────────────────────┼────────────────────────┼────────────────┼────────────────────────┤\n",
              "│ batch_normalization_6     │ (<span style=\"color: #00d7ff; text-decoration-color: #00d7ff\">None</span>, <span style=\"color: #00af00; text-decoration-color: #00af00\">22400</span>)          │         <span style=\"color: #00af00; text-decoration-color: #00af00\">89,600</span> │ dropout_6[<span style=\"color: #00af00; text-decoration-color: #00af00\">0</span>][<span style=\"color: #00af00; text-decoration-color: #00af00\">0</span>]        │\n",
              "│ (<span style=\"color: #0087ff; text-decoration-color: #0087ff\">BatchNormalization</span>)      │                        │                │                        │\n",
              "├───────────────────────────┼────────────────────────┼────────────────┼────────────────────────┤\n",
              "│ dense_10 (<span style=\"color: #0087ff; text-decoration-color: #0087ff\">Dense</span>)          │ (<span style=\"color: #00d7ff; text-decoration-color: #00d7ff\">None</span>, <span style=\"color: #00af00; text-decoration-color: #00af00\">64</span>)             │      <span style=\"color: #00af00; text-decoration-color: #00af00\">1,433,664</span> │ batch_normalization_6… │\n",
              "├───────────────────────────┼────────────────────────┼────────────────┼────────────────────────┤\n",
              "│ dense_12 (<span style=\"color: #0087ff; text-decoration-color: #0087ff\">Dense</span>)          │ (<span style=\"color: #00d7ff; text-decoration-color: #00d7ff\">None</span>, <span style=\"color: #00af00; text-decoration-color: #00af00\">64</span>)             │      <span style=\"color: #00af00; text-decoration-color: #00af00\">1,433,664</span> │ batch_normalization_6… │\n",
              "├───────────────────────────┼────────────────────────┼────────────────┼────────────────────────┤\n",
              "│ dense_14 (<span style=\"color: #0087ff; text-decoration-color: #0087ff\">Dense</span>)          │ (<span style=\"color: #00d7ff; text-decoration-color: #00d7ff\">None</span>, <span style=\"color: #00af00; text-decoration-color: #00af00\">64</span>)             │      <span style=\"color: #00af00; text-decoration-color: #00af00\">1,433,664</span> │ batch_normalization_6… │\n",
              "├───────────────────────────┼────────────────────────┼────────────────┼────────────────────────┤\n",
              "│ dense_16 (<span style=\"color: #0087ff; text-decoration-color: #0087ff\">Dense</span>)          │ (<span style=\"color: #00d7ff; text-decoration-color: #00d7ff\">None</span>, <span style=\"color: #00af00; text-decoration-color: #00af00\">64</span>)             │      <span style=\"color: #00af00; text-decoration-color: #00af00\">1,433,664</span> │ batch_normalization_6… │\n",
              "├───────────────────────────┼────────────────────────┼────────────────┼────────────────────────┤\n",
              "│ dense_18 (<span style=\"color: #0087ff; text-decoration-color: #0087ff\">Dense</span>)          │ (<span style=\"color: #00d7ff; text-decoration-color: #00d7ff\">None</span>, <span style=\"color: #00af00; text-decoration-color: #00af00\">64</span>)             │      <span style=\"color: #00af00; text-decoration-color: #00af00\">1,433,664</span> │ batch_normalization_6… │\n",
              "├───────────────────────────┼────────────────────────┼────────────────┼────────────────────────┤\n",
              "│ dropout_7 (<span style=\"color: #0087ff; text-decoration-color: #0087ff\">Dropout</span>)       │ (<span style=\"color: #00d7ff; text-decoration-color: #00d7ff\">None</span>, <span style=\"color: #00af00; text-decoration-color: #00af00\">64</span>)             │              <span style=\"color: #00af00; text-decoration-color: #00af00\">0</span> │ dense_10[<span style=\"color: #00af00; text-decoration-color: #00af00\">0</span>][<span style=\"color: #00af00; text-decoration-color: #00af00\">0</span>]         │\n",
              "├───────────────────────────┼────────────────────────┼────────────────┼────────────────────────┤\n",
              "│ dropout_8 (<span style=\"color: #0087ff; text-decoration-color: #0087ff\">Dropout</span>)       │ (<span style=\"color: #00d7ff; text-decoration-color: #00d7ff\">None</span>, <span style=\"color: #00af00; text-decoration-color: #00af00\">64</span>)             │              <span style=\"color: #00af00; text-decoration-color: #00af00\">0</span> │ dense_12[<span style=\"color: #00af00; text-decoration-color: #00af00\">0</span>][<span style=\"color: #00af00; text-decoration-color: #00af00\">0</span>]         │\n",
              "├───────────────────────────┼────────────────────────┼────────────────┼────────────────────────┤\n",
              "│ dropout_9 (<span style=\"color: #0087ff; text-decoration-color: #0087ff\">Dropout</span>)       │ (<span style=\"color: #00d7ff; text-decoration-color: #00d7ff\">None</span>, <span style=\"color: #00af00; text-decoration-color: #00af00\">64</span>)             │              <span style=\"color: #00af00; text-decoration-color: #00af00\">0</span> │ dense_14[<span style=\"color: #00af00; text-decoration-color: #00af00\">0</span>][<span style=\"color: #00af00; text-decoration-color: #00af00\">0</span>]         │\n",
              "├───────────────────────────┼────────────────────────┼────────────────┼────────────────────────┤\n",
              "│ dropout_10 (<span style=\"color: #0087ff; text-decoration-color: #0087ff\">Dropout</span>)      │ (<span style=\"color: #00d7ff; text-decoration-color: #00d7ff\">None</span>, <span style=\"color: #00af00; text-decoration-color: #00af00\">64</span>)             │              <span style=\"color: #00af00; text-decoration-color: #00af00\">0</span> │ dense_16[<span style=\"color: #00af00; text-decoration-color: #00af00\">0</span>][<span style=\"color: #00af00; text-decoration-color: #00af00\">0</span>]         │\n",
              "├───────────────────────────┼────────────────────────┼────────────────┼────────────────────────┤\n",
              "│ dropout_11 (<span style=\"color: #0087ff; text-decoration-color: #0087ff\">Dropout</span>)      │ (<span style=\"color: #00d7ff; text-decoration-color: #00d7ff\">None</span>, <span style=\"color: #00af00; text-decoration-color: #00af00\">64</span>)             │              <span style=\"color: #00af00; text-decoration-color: #00af00\">0</span> │ dense_18[<span style=\"color: #00af00; text-decoration-color: #00af00\">0</span>][<span style=\"color: #00af00; text-decoration-color: #00af00\">0</span>]         │\n",
              "├───────────────────────────┼────────────────────────┼────────────────┼────────────────────────┤\n",
              "│ batch_normalization_7     │ (<span style=\"color: #00d7ff; text-decoration-color: #00d7ff\">None</span>, <span style=\"color: #00af00; text-decoration-color: #00af00\">64</span>)             │            <span style=\"color: #00af00; text-decoration-color: #00af00\">256</span> │ dropout_7[<span style=\"color: #00af00; text-decoration-color: #00af00\">0</span>][<span style=\"color: #00af00; text-decoration-color: #00af00\">0</span>]        │\n",
              "│ (<span style=\"color: #0087ff; text-decoration-color: #0087ff\">BatchNormalization</span>)      │                        │                │                        │\n",
              "├───────────────────────────┼────────────────────────┼────────────────┼────────────────────────┤\n",
              "│ batch_normalization_8     │ (<span style=\"color: #00d7ff; text-decoration-color: #00d7ff\">None</span>, <span style=\"color: #00af00; text-decoration-color: #00af00\">64</span>)             │            <span style=\"color: #00af00; text-decoration-color: #00af00\">256</span> │ dropout_8[<span style=\"color: #00af00; text-decoration-color: #00af00\">0</span>][<span style=\"color: #00af00; text-decoration-color: #00af00\">0</span>]        │\n",
              "│ (<span style=\"color: #0087ff; text-decoration-color: #0087ff\">BatchNormalization</span>)      │                        │                │                        │\n",
              "├───────────────────────────┼────────────────────────┼────────────────┼────────────────────────┤\n",
              "│ batch_normalization_9     │ (<span style=\"color: #00d7ff; text-decoration-color: #00d7ff\">None</span>, <span style=\"color: #00af00; text-decoration-color: #00af00\">64</span>)             │            <span style=\"color: #00af00; text-decoration-color: #00af00\">256</span> │ dropout_9[<span style=\"color: #00af00; text-decoration-color: #00af00\">0</span>][<span style=\"color: #00af00; text-decoration-color: #00af00\">0</span>]        │\n",
              "│ (<span style=\"color: #0087ff; text-decoration-color: #0087ff\">BatchNormalization</span>)      │                        │                │                        │\n",
              "├───────────────────────────┼────────────────────────┼────────────────┼────────────────────────┤\n",
              "│ batch_normalization_10    │ (<span style=\"color: #00d7ff; text-decoration-color: #00d7ff\">None</span>, <span style=\"color: #00af00; text-decoration-color: #00af00\">64</span>)             │            <span style=\"color: #00af00; text-decoration-color: #00af00\">256</span> │ dropout_10[<span style=\"color: #00af00; text-decoration-color: #00af00\">0</span>][<span style=\"color: #00af00; text-decoration-color: #00af00\">0</span>]       │\n",
              "│ (<span style=\"color: #0087ff; text-decoration-color: #0087ff\">BatchNormalization</span>)      │                        │                │                        │\n",
              "├───────────────────────────┼────────────────────────┼────────────────┼────────────────────────┤\n",
              "│ batch_normalization_11    │ (<span style=\"color: #00d7ff; text-decoration-color: #00d7ff\">None</span>, <span style=\"color: #00af00; text-decoration-color: #00af00\">64</span>)             │            <span style=\"color: #00af00; text-decoration-color: #00af00\">256</span> │ dropout_11[<span style=\"color: #00af00; text-decoration-color: #00af00\">0</span>][<span style=\"color: #00af00; text-decoration-color: #00af00\">0</span>]       │\n",
              "│ (<span style=\"color: #0087ff; text-decoration-color: #0087ff\">BatchNormalization</span>)      │                        │                │                        │\n",
              "├───────────────────────────┼────────────────────────┼────────────────┼────────────────────────┤\n",
              "│ dense_11 (<span style=\"color: #0087ff; text-decoration-color: #0087ff\">Dense</span>)          │ (<span style=\"color: #00d7ff; text-decoration-color: #00d7ff\">None</span>, <span style=\"color: #00af00; text-decoration-color: #00af00\">19</span>)             │          <span style=\"color: #00af00; text-decoration-color: #00af00\">1,235</span> │ batch_normalization_7… │\n",
              "├───────────────────────────┼────────────────────────┼────────────────┼────────────────────────┤\n",
              "│ dense_13 (<span style=\"color: #0087ff; text-decoration-color: #0087ff\">Dense</span>)          │ (<span style=\"color: #00d7ff; text-decoration-color: #00d7ff\">None</span>, <span style=\"color: #00af00; text-decoration-color: #00af00\">19</span>)             │          <span style=\"color: #00af00; text-decoration-color: #00af00\">1,235</span> │ batch_normalization_8… │\n",
              "├───────────────────────────┼────────────────────────┼────────────────┼────────────────────────┤\n",
              "│ dense_15 (<span style=\"color: #0087ff; text-decoration-color: #0087ff\">Dense</span>)          │ (<span style=\"color: #00d7ff; text-decoration-color: #00d7ff\">None</span>, <span style=\"color: #00af00; text-decoration-color: #00af00\">19</span>)             │          <span style=\"color: #00af00; text-decoration-color: #00af00\">1,235</span> │ batch_normalization_9… │\n",
              "├───────────────────────────┼────────────────────────┼────────────────┼────────────────────────┤\n",
              "│ dense_17 (<span style=\"color: #0087ff; text-decoration-color: #0087ff\">Dense</span>)          │ (<span style=\"color: #00d7ff; text-decoration-color: #00d7ff\">None</span>, <span style=\"color: #00af00; text-decoration-color: #00af00\">19</span>)             │          <span style=\"color: #00af00; text-decoration-color: #00af00\">1,235</span> │ batch_normalization_1… │\n",
              "├───────────────────────────┼────────────────────────┼────────────────┼────────────────────────┤\n",
              "│ dense_19 (<span style=\"color: #0087ff; text-decoration-color: #0087ff\">Dense</span>)          │ (<span style=\"color: #00d7ff; text-decoration-color: #00d7ff\">None</span>, <span style=\"color: #00af00; text-decoration-color: #00af00\">19</span>)             │          <span style=\"color: #00af00; text-decoration-color: #00af00\">1,235</span> │ batch_normalization_1… │\n",
              "└───────────────────────────┴────────────────────────┴────────────────┴────────────────────────┘\n",
              "</pre>\n"
            ]
          },
          "metadata": {}
        },
        {
          "output_type": "display_data",
          "data": {
            "text/plain": [
              "\u001b[1m Total params: \u001b[0m\u001b[38;5;34m7,358,047\u001b[0m (28.07 MB)\n"
            ],
            "text/html": [
              "<pre style=\"white-space:pre;overflow-x:auto;line-height:normal;font-family:Menlo,'DejaVu Sans Mono',consolas,'Courier New',monospace\"><span style=\"font-weight: bold\"> Total params: </span><span style=\"color: #00af00; text-decoration-color: #00af00\">7,358,047</span> (28.07 MB)\n",
              "</pre>\n"
            ]
          },
          "metadata": {}
        },
        {
          "output_type": "display_data",
          "data": {
            "text/plain": [
              "\u001b[1m Trainable params: \u001b[0m\u001b[38;5;34m7,312,607\u001b[0m (27.90 MB)\n"
            ],
            "text/html": [
              "<pre style=\"white-space:pre;overflow-x:auto;line-height:normal;font-family:Menlo,'DejaVu Sans Mono',consolas,'Courier New',monospace\"><span style=\"font-weight: bold\"> Trainable params: </span><span style=\"color: #00af00; text-decoration-color: #00af00\">7,312,607</span> (27.90 MB)\n",
              "</pre>\n"
            ]
          },
          "metadata": {}
        },
        {
          "output_type": "display_data",
          "data": {
            "text/plain": [
              "\u001b[1m Non-trainable params: \u001b[0m\u001b[38;5;34m45,440\u001b[0m (177.50 KB)\n"
            ],
            "text/html": [
              "<pre style=\"white-space:pre;overflow-x:auto;line-height:normal;font-family:Menlo,'DejaVu Sans Mono',consolas,'Courier New',monospace\"><span style=\"font-weight: bold\"> Non-trainable params: </span><span style=\"color: #00af00; text-decoration-color: #00af00\">45,440</span> (177.50 KB)\n",
              "</pre>\n"
            ]
          },
          "metadata": {}
        }
      ]
    },
    {
      "cell_type": "code",
      "source": [
        "from keras.callbacks import EarlyStopping\n",
        "\n",
        "early_stopping = EarlyStopping(\n",
        "    monitor='val_loss',  # Метрика для мониторинга\n",
        "    patience=10,         # Количество эпох без улучшения, после которых остановить обучение\n",
        "    restore_best_weights=True  # Восстановить лучшие веса после окончания обучения\n",
        ")\n",
        "\n",
        "\n",
        "history = model_4.fit(\n",
        "    X_train, [y_train[:, i] for i in range(5)],\n",
        "    batch_size=32,\n",
        "    epochs=100,\n",
        "    validation_data=(X_val, [y_val[:, i] for i in range(5)]),\n",
        "    callbacks=[early_stopping]\n",
        ")\n"
      ],
      "metadata": {
        "colab": {
          "base_uri": "https://localhost:8080/"
        },
        "id": "U89KJsaefvmP",
        "outputId": "4eec107c-24ae-4e23-9b8f-1d2e387391c9"
      },
      "execution_count": null,
      "outputs": [
        {
          "output_type": "stream",
          "name": "stdout",
          "text": [
            "Epoch 1/100\n",
            "\u001b[1m24/24\u001b[0m \u001b[32m━━━━━━━━━━━━━━━━━━━━\u001b[0m\u001b[37m\u001b[0m \u001b[1m27s\u001b[0m 510ms/step - dense_11_accuracy: 0.0709 - dense_13_accuracy: 0.0605 - dense_15_accuracy: 0.0738 - dense_17_accuracy: 0.0387 - dense_19_accuracy: 0.0542 - loss: 17.8106 - val_dense_11_accuracy: 0.0000e+00 - val_dense_13_accuracy: 0.0807 - val_dense_15_accuracy: 0.0745 - val_dense_17_accuracy: 0.0248 - val_dense_19_accuracy: 0.0745 - val_loss: 14.6841\n",
            "Epoch 2/100\n",
            "\u001b[1m24/24\u001b[0m \u001b[32m━━━━━━━━━━━━━━━━━━━━\u001b[0m\u001b[37m\u001b[0m \u001b[1m20s\u001b[0m 25ms/step - dense_11_accuracy: 0.1950 - dense_13_accuracy: 0.1963 - dense_15_accuracy: 0.1466 - dense_17_accuracy: 0.1082 - dense_19_accuracy: 0.1415 - loss: 14.5690 - val_dense_11_accuracy: 0.0000e+00 - val_dense_13_accuracy: 0.1118 - val_dense_15_accuracy: 0.1242 - val_dense_17_accuracy: 0.0994 - val_dense_19_accuracy: 0.1056 - val_loss: 14.4786\n",
            "Epoch 3/100\n",
            "\u001b[1m24/24\u001b[0m \u001b[32m━━━━━━━━━━━━━━━━━━━━\u001b[0m\u001b[37m\u001b[0m \u001b[1m1s\u001b[0m 20ms/step - dense_11_accuracy: 0.5220 - dense_13_accuracy: 0.4071 - dense_15_accuracy: 0.3403 - dense_17_accuracy: 0.3324 - dense_19_accuracy: 0.3290 - loss: 10.2203 - val_dense_11_accuracy: 0.0248 - val_dense_13_accuracy: 0.1491 - val_dense_15_accuracy: 0.1242 - val_dense_17_accuracy: 0.1429 - val_dense_19_accuracy: 0.1801 - val_loss: 14.2244\n",
            "Epoch 4/100\n",
            "\u001b[1m24/24\u001b[0m \u001b[32m━━━━━━━━━━━━━━━━━━━━\u001b[0m\u001b[37m\u001b[0m \u001b[1m1s\u001b[0m 22ms/step - dense_11_accuracy: 0.7698 - dense_13_accuracy: 0.6802 - dense_15_accuracy: 0.5683 - dense_17_accuracy: 0.5239 - dense_19_accuracy: 0.5003 - loss: 7.2177 - val_dense_11_accuracy: 0.0683 - val_dense_13_accuracy: 0.1491 - val_dense_15_accuracy: 0.1925 - val_dense_17_accuracy: 0.1988 - val_dense_19_accuracy: 0.2236 - val_loss: 13.9632\n",
            "Epoch 5/100\n",
            "\u001b[1m24/24\u001b[0m \u001b[32m━━━━━━━━━━━━━━━━━━━━\u001b[0m\u001b[37m\u001b[0m \u001b[1m1s\u001b[0m 22ms/step - dense_11_accuracy: 0.8610 - dense_13_accuracy: 0.8036 - dense_15_accuracy: 0.6606 - dense_17_accuracy: 0.5863 - dense_19_accuracy: 0.6580 - loss: 5.8722 - val_dense_11_accuracy: 0.0373 - val_dense_13_accuracy: 0.2484 - val_dense_15_accuracy: 0.1739 - val_dense_17_accuracy: 0.1242 - val_dense_19_accuracy: 0.2795 - val_loss: 13.8160\n",
            "Epoch 6/100\n",
            "\u001b[1m24/24\u001b[0m \u001b[32m━━━━━━━━━━━━━━━━━━━━\u001b[0m\u001b[37m\u001b[0m \u001b[1m1s\u001b[0m 20ms/step - dense_11_accuracy: 0.9330 - dense_13_accuracy: 0.9064 - dense_15_accuracy: 0.7549 - dense_17_accuracy: 0.7097 - dense_19_accuracy: 0.7399 - loss: 4.7201 - val_dense_11_accuracy: 0.0932 - val_dense_13_accuracy: 0.4224 - val_dense_15_accuracy: 0.3168 - val_dense_17_accuracy: 0.2671 - val_dense_19_accuracy: 0.2360 - val_loss: 13.4760\n",
            "Epoch 7/100\n",
            "\u001b[1m24/24\u001b[0m \u001b[32m━━━━━━━━━━━━━━━━━━━━\u001b[0m\u001b[37m\u001b[0m \u001b[1m0s\u001b[0m 17ms/step - dense_11_accuracy: 0.9556 - dense_13_accuracy: 0.8869 - dense_15_accuracy: 0.8044 - dense_17_accuracy: 0.7865 - dense_19_accuracy: 0.8119 - loss: 4.1144 - val_dense_11_accuracy: 0.2112 - val_dense_13_accuracy: 0.3292 - val_dense_15_accuracy: 0.3665 - val_dense_17_accuracy: 0.2733 - val_dense_19_accuracy: 0.2422 - val_loss: 13.2200\n",
            "Epoch 8/100\n",
            "\u001b[1m24/24\u001b[0m \u001b[32m━━━━━━━━━━━━━━━━━━━━\u001b[0m\u001b[37m\u001b[0m \u001b[1m0s\u001b[0m 18ms/step - dense_11_accuracy: 0.9697 - dense_13_accuracy: 0.9302 - dense_15_accuracy: 0.8547 - dense_17_accuracy: 0.8445 - dense_19_accuracy: 0.8449 - loss: 3.4222 - val_dense_11_accuracy: 0.0745 - val_dense_13_accuracy: 0.4348 - val_dense_15_accuracy: 0.4472 - val_dense_17_accuracy: 0.3043 - val_dense_19_accuracy: 0.2857 - val_loss: 12.9393\n",
            "Epoch 9/100\n",
            "\u001b[1m24/24\u001b[0m \u001b[32m━━━━━━━━━━━━━━━━━━━━\u001b[0m\u001b[37m\u001b[0m \u001b[1m1s\u001b[0m 19ms/step - dense_11_accuracy: 0.9556 - dense_13_accuracy: 0.9533 - dense_15_accuracy: 0.9002 - dense_17_accuracy: 0.8718 - dense_19_accuracy: 0.9037 - loss: 3.0966 - val_dense_11_accuracy: 0.0745 - val_dense_13_accuracy: 0.5404 - val_dense_15_accuracy: 0.4534 - val_dense_17_accuracy: 0.3665 - val_dense_19_accuracy: 0.3416 - val_loss: 12.6961\n",
            "Epoch 10/100\n",
            "\u001b[1m24/24\u001b[0m \u001b[32m━━━━━━━━━━━━━━━━━━━━\u001b[0m\u001b[37m\u001b[0m \u001b[1m0s\u001b[0m 19ms/step - dense_11_accuracy: 0.9756 - dense_13_accuracy: 0.9592 - dense_15_accuracy: 0.9118 - dense_17_accuracy: 0.9056 - dense_19_accuracy: 0.8826 - loss: 2.7999 - val_dense_11_accuracy: 0.1863 - val_dense_13_accuracy: 0.6770 - val_dense_15_accuracy: 0.4720 - val_dense_17_accuracy: 0.3851 - val_dense_19_accuracy: 0.3354 - val_loss: 12.2811\n",
            "Epoch 11/100\n",
            "\u001b[1m24/24\u001b[0m \u001b[32m━━━━━━━━━━━━━━━━━━━━\u001b[0m\u001b[37m\u001b[0m \u001b[1m0s\u001b[0m 18ms/step - dense_11_accuracy: 0.9803 - dense_13_accuracy: 0.9495 - dense_15_accuracy: 0.9358 - dense_17_accuracy: 0.9258 - dense_19_accuracy: 0.9456 - loss: 2.4654 - val_dense_11_accuracy: 0.3665 - val_dense_13_accuracy: 0.7205 - val_dense_15_accuracy: 0.5280 - val_dense_17_accuracy: 0.4534 - val_dense_19_accuracy: 0.3851 - val_loss: 11.8973\n",
            "Epoch 12/100\n",
            "\u001b[1m24/24\u001b[0m \u001b[32m━━━━━━━━━━━━━━━━━━━━\u001b[0m\u001b[37m\u001b[0m \u001b[1m0s\u001b[0m 18ms/step - dense_11_accuracy: 0.9835 - dense_13_accuracy: 0.9686 - dense_15_accuracy: 0.9390 - dense_17_accuracy: 0.9160 - dense_19_accuracy: 0.9590 - loss: 2.2372 - val_dense_11_accuracy: 0.4720 - val_dense_13_accuracy: 0.7143 - val_dense_15_accuracy: 0.5404 - val_dense_17_accuracy: 0.4534 - val_dense_19_accuracy: 0.3913 - val_loss: 11.4083\n",
            "Epoch 13/100\n",
            "\u001b[1m24/24\u001b[0m \u001b[32m━━━━━━━━━━━━━━━━━━━━\u001b[0m\u001b[37m\u001b[0m \u001b[1m0s\u001b[0m 19ms/step - dense_11_accuracy: 0.9830 - dense_13_accuracy: 0.9730 - dense_15_accuracy: 0.9418 - dense_17_accuracy: 0.9298 - dense_19_accuracy: 0.9403 - loss: 2.1464 - val_dense_11_accuracy: 0.7081 - val_dense_13_accuracy: 0.7578 - val_dense_15_accuracy: 0.5652 - val_dense_17_accuracy: 0.5217 - val_dense_19_accuracy: 0.5031 - val_loss: 10.7667\n",
            "Epoch 14/100\n",
            "\u001b[1m24/24\u001b[0m \u001b[32m━━━━━━━━━━━━━━━━━━━━\u001b[0m\u001b[37m\u001b[0m \u001b[1m1s\u001b[0m 20ms/step - dense_11_accuracy: 0.9869 - dense_13_accuracy: 0.9643 - dense_15_accuracy: 0.9537 - dense_17_accuracy: 0.9343 - dense_19_accuracy: 0.9518 - loss: 1.9631 - val_dense_11_accuracy: 0.7950 - val_dense_13_accuracy: 0.7516 - val_dense_15_accuracy: 0.5839 - val_dense_17_accuracy: 0.5963 - val_dense_19_accuracy: 0.5528 - val_loss: 10.3784\n",
            "Epoch 15/100\n",
            "\u001b[1m24/24\u001b[0m \u001b[32m━━━━━━━━━━━━━━━━━━━━\u001b[0m\u001b[37m\u001b[0m \u001b[1m0s\u001b[0m 18ms/step - dense_11_accuracy: 0.9818 - dense_13_accuracy: 0.9789 - dense_15_accuracy: 0.9722 - dense_17_accuracy: 0.9467 - dense_19_accuracy: 0.9593 - loss: 1.7598 - val_dense_11_accuracy: 0.8634 - val_dense_13_accuracy: 0.8012 - val_dense_15_accuracy: 0.6335 - val_dense_17_accuracy: 0.5963 - val_dense_19_accuracy: 0.5963 - val_loss: 9.7960\n",
            "Epoch 16/100\n",
            "\u001b[1m24/24\u001b[0m \u001b[32m━━━━━━━━━━━━━━━━━━━━\u001b[0m\u001b[37m\u001b[0m \u001b[1m0s\u001b[0m 19ms/step - dense_11_accuracy: 0.9903 - dense_13_accuracy: 0.9816 - dense_15_accuracy: 0.9690 - dense_17_accuracy: 0.9519 - dense_19_accuracy: 0.9596 - loss: 1.7252 - val_dense_11_accuracy: 0.8634 - val_dense_13_accuracy: 0.8323 - val_dense_15_accuracy: 0.6708 - val_dense_17_accuracy: 0.6770 - val_dense_19_accuracy: 0.6584 - val_loss: 9.2807\n",
            "Epoch 17/100\n",
            "\u001b[1m24/24\u001b[0m \u001b[32m━━━━━━━━━━━━━━━━━━━━\u001b[0m\u001b[37m\u001b[0m \u001b[1m0s\u001b[0m 18ms/step - dense_11_accuracy: 0.9870 - dense_13_accuracy: 0.9837 - dense_15_accuracy: 0.9800 - dense_17_accuracy: 0.9533 - dense_19_accuracy: 0.9595 - loss: 1.5524 - val_dense_11_accuracy: 0.9441 - val_dense_13_accuracy: 0.8758 - val_dense_15_accuracy: 0.7267 - val_dense_17_accuracy: 0.7019 - val_dense_19_accuracy: 0.6894 - val_loss: 8.4711\n",
            "Epoch 18/100\n",
            "\u001b[1m24/24\u001b[0m \u001b[32m━━━━━━━━━━━━━━━━━━━━\u001b[0m\u001b[37m\u001b[0m \u001b[1m0s\u001b[0m 20ms/step - dense_11_accuracy: 0.9944 - dense_13_accuracy: 0.9832 - dense_15_accuracy: 0.9722 - dense_17_accuracy: 0.9448 - dense_19_accuracy: 0.9829 - loss: 1.4834 - val_dense_11_accuracy: 0.9627 - val_dense_13_accuracy: 0.8882 - val_dense_15_accuracy: 0.7640 - val_dense_17_accuracy: 0.7329 - val_dense_19_accuracy: 0.7205 - val_loss: 7.6951\n",
            "Epoch 19/100\n",
            "\u001b[1m24/24\u001b[0m \u001b[32m━━━━━━━━━━━━━━━━━━━━\u001b[0m\u001b[37m\u001b[0m \u001b[1m0s\u001b[0m 19ms/step - dense_11_accuracy: 0.9872 - dense_13_accuracy: 0.9859 - dense_15_accuracy: 0.9750 - dense_17_accuracy: 0.9779 - dense_19_accuracy: 0.9670 - loss: 1.3588 - val_dense_11_accuracy: 0.9689 - val_dense_13_accuracy: 0.8882 - val_dense_15_accuracy: 0.7516 - val_dense_17_accuracy: 0.7453 - val_dense_19_accuracy: 0.7516 - val_loss: 7.2187\n",
            "Epoch 20/100\n",
            "\u001b[1m24/24\u001b[0m \u001b[32m━━━━━━━━━━━━━━━━━━━━\u001b[0m\u001b[37m\u001b[0m \u001b[1m0s\u001b[0m 19ms/step - dense_11_accuracy: 0.9857 - dense_13_accuracy: 0.9871 - dense_15_accuracy: 0.9733 - dense_17_accuracy: 0.9673 - dense_19_accuracy: 0.9774 - loss: 1.2819 - val_dense_11_accuracy: 0.9689 - val_dense_13_accuracy: 0.9006 - val_dense_15_accuracy: 0.7826 - val_dense_17_accuracy: 0.7578 - val_dense_19_accuracy: 0.8075 - val_loss: 6.4743\n",
            "Epoch 21/100\n",
            "\u001b[1m24/24\u001b[0m \u001b[32m━━━━━━━━━━━━━━━━━━━━\u001b[0m\u001b[37m\u001b[0m \u001b[1m0s\u001b[0m 18ms/step - dense_11_accuracy: 0.9855 - dense_13_accuracy: 0.9957 - dense_15_accuracy: 0.9727 - dense_17_accuracy: 0.9808 - dense_19_accuracy: 0.9700 - loss: 1.2235 - val_dense_11_accuracy: 0.9814 - val_dense_13_accuracy: 0.9130 - val_dense_15_accuracy: 0.7950 - val_dense_17_accuracy: 0.7826 - val_dense_19_accuracy: 0.8447 - val_loss: 5.7564\n",
            "Epoch 22/100\n",
            "\u001b[1m24/24\u001b[0m \u001b[32m━━━━━━━━━━━━━━━━━━━━\u001b[0m\u001b[37m\u001b[0m \u001b[1m0s\u001b[0m 18ms/step - dense_11_accuracy: 0.9857 - dense_13_accuracy: 0.9771 - dense_15_accuracy: 0.9908 - dense_17_accuracy: 0.9494 - dense_19_accuracy: 0.9855 - loss: 1.2071 - val_dense_11_accuracy: 0.9814 - val_dense_13_accuracy: 0.9068 - val_dense_15_accuracy: 0.8012 - val_dense_17_accuracy: 0.7764 - val_dense_19_accuracy: 0.8571 - val_loss: 5.1407\n",
            "Epoch 23/100\n",
            "\u001b[1m24/24\u001b[0m \u001b[32m━━━━━━━━━━━━━━━━━━━━\u001b[0m\u001b[37m\u001b[0m \u001b[1m0s\u001b[0m 19ms/step - dense_11_accuracy: 0.9950 - dense_13_accuracy: 0.9942 - dense_15_accuracy: 0.9792 - dense_17_accuracy: 0.9856 - dense_19_accuracy: 0.9827 - loss: 1.0285 - val_dense_11_accuracy: 0.9814 - val_dense_13_accuracy: 0.9068 - val_dense_15_accuracy: 0.8075 - val_dense_17_accuracy: 0.7888 - val_dense_19_accuracy: 0.8882 - val_loss: 4.6215\n",
            "Epoch 24/100\n",
            "\u001b[1m24/24\u001b[0m \u001b[32m━━━━━━━━━━━━━━━━━━━━\u001b[0m\u001b[37m\u001b[0m \u001b[1m0s\u001b[0m 18ms/step - dense_11_accuracy: 0.9762 - dense_13_accuracy: 0.9845 - dense_15_accuracy: 0.9748 - dense_17_accuracy: 0.9817 - dense_19_accuracy: 0.9886 - loss: 1.0538 - val_dense_11_accuracy: 0.9814 - val_dense_13_accuracy: 0.9068 - val_dense_15_accuracy: 0.8261 - val_dense_17_accuracy: 0.7826 - val_dense_19_accuracy: 0.8820 - val_loss: 4.3597\n",
            "Epoch 25/100\n",
            "\u001b[1m24/24\u001b[0m \u001b[32m━━━━━━━━━━━━━━━━━━━━\u001b[0m\u001b[37m\u001b[0m \u001b[1m0s\u001b[0m 20ms/step - dense_11_accuracy: 0.9959 - dense_13_accuracy: 0.9912 - dense_15_accuracy: 0.9857 - dense_17_accuracy: 0.9811 - dense_19_accuracy: 0.9720 - loss: 0.9939 - val_dense_11_accuracy: 0.9814 - val_dense_13_accuracy: 0.9068 - val_dense_15_accuracy: 0.8385 - val_dense_17_accuracy: 0.7950 - val_dense_19_accuracy: 0.9068 - val_loss: 3.9672\n",
            "Epoch 26/100\n",
            "\u001b[1m24/24\u001b[0m \u001b[32m━━━━━━━━━━━━━━━━━━━━\u001b[0m\u001b[37m\u001b[0m \u001b[1m1s\u001b[0m 21ms/step - dense_11_accuracy: 0.9969 - dense_13_accuracy: 0.9845 - dense_15_accuracy: 0.9849 - dense_17_accuracy: 0.9695 - dense_19_accuracy: 0.9745 - loss: 1.0301 - val_dense_11_accuracy: 0.9814 - val_dense_13_accuracy: 0.9006 - val_dense_15_accuracy: 0.8261 - val_dense_17_accuracy: 0.7950 - val_dense_19_accuracy: 0.9006 - val_loss: 3.4477\n",
            "Epoch 27/100\n",
            "\u001b[1m24/24\u001b[0m \u001b[32m━━━━━━━━━━━━━━━━━━━━\u001b[0m\u001b[37m\u001b[0m \u001b[1m1s\u001b[0m 21ms/step - dense_11_accuracy: 0.9950 - dense_13_accuracy: 0.9718 - dense_15_accuracy: 0.9722 - dense_17_accuracy: 0.9907 - dense_19_accuracy: 0.9698 - loss: 0.9398 - val_dense_11_accuracy: 0.9814 - val_dense_13_accuracy: 0.9068 - val_dense_15_accuracy: 0.8261 - val_dense_17_accuracy: 0.7950 - val_dense_19_accuracy: 0.8882 - val_loss: 3.1979\n",
            "Epoch 28/100\n",
            "\u001b[1m24/24\u001b[0m \u001b[32m━━━━━━━━━━━━━━━━━━━━\u001b[0m\u001b[37m\u001b[0m \u001b[1m1s\u001b[0m 22ms/step - dense_11_accuracy: 0.9972 - dense_13_accuracy: 0.9830 - dense_15_accuracy: 0.9880 - dense_17_accuracy: 0.9754 - dense_19_accuracy: 0.9870 - loss: 0.8670 - val_dense_11_accuracy: 0.9938 - val_dense_13_accuracy: 0.9006 - val_dense_15_accuracy: 0.8261 - val_dense_17_accuracy: 0.7888 - val_dense_19_accuracy: 0.9006 - val_loss: 2.9792\n",
            "Epoch 29/100\n",
            "\u001b[1m24/24\u001b[0m \u001b[32m━━━━━━━━━━━━━━━━━━━━\u001b[0m\u001b[37m\u001b[0m \u001b[1m1s\u001b[0m 20ms/step - dense_11_accuracy: 0.9880 - dense_13_accuracy: 0.9903 - dense_15_accuracy: 0.9960 - dense_17_accuracy: 0.9901 - dense_19_accuracy: 0.9856 - loss: 0.8417 - val_dense_11_accuracy: 0.9876 - val_dense_13_accuracy: 0.9006 - val_dense_15_accuracy: 0.8323 - val_dense_17_accuracy: 0.7888 - val_dense_19_accuracy: 0.9193 - val_loss: 2.8264\n",
            "Epoch 30/100\n",
            "\u001b[1m24/24\u001b[0m \u001b[32m━━━━━━━━━━━━━━━━━━━━\u001b[0m\u001b[37m\u001b[0m \u001b[1m1s\u001b[0m 22ms/step - dense_11_accuracy: 0.9973 - dense_13_accuracy: 0.9937 - dense_15_accuracy: 0.9891 - dense_17_accuracy: 0.9873 - dense_19_accuracy: 0.9812 - loss: 0.7791 - val_dense_11_accuracy: 0.9814 - val_dense_13_accuracy: 0.9006 - val_dense_15_accuracy: 0.8323 - val_dense_17_accuracy: 0.7888 - val_dense_19_accuracy: 0.9193 - val_loss: 2.7113\n",
            "Epoch 31/100\n",
            "\u001b[1m24/24\u001b[0m \u001b[32m━━━━━━━━━━━━━━━━━━━━\u001b[0m\u001b[37m\u001b[0m \u001b[1m1s\u001b[0m 22ms/step - dense_11_accuracy: 0.9933 - dense_13_accuracy: 0.9886 - dense_15_accuracy: 0.9931 - dense_17_accuracy: 0.9901 - dense_19_accuracy: 0.9809 - loss: 0.7604 - val_dense_11_accuracy: 0.9814 - val_dense_13_accuracy: 0.9006 - val_dense_15_accuracy: 0.8137 - val_dense_17_accuracy: 0.7950 - val_dense_19_accuracy: 0.9068 - val_loss: 2.6073\n",
            "Epoch 32/100\n",
            "\u001b[1m24/24\u001b[0m \u001b[32m━━━━━━━━━━━━━━━━━━━━\u001b[0m\u001b[37m\u001b[0m \u001b[1m1s\u001b[0m 20ms/step - dense_11_accuracy: 0.9979 - dense_13_accuracy: 0.9931 - dense_15_accuracy: 0.9870 - dense_17_accuracy: 0.9886 - dense_19_accuracy: 0.9772 - loss: 0.7340 - val_dense_11_accuracy: 0.9814 - val_dense_13_accuracy: 0.9193 - val_dense_15_accuracy: 0.8012 - val_dense_17_accuracy: 0.7888 - val_dense_19_accuracy: 0.9255 - val_loss: 2.5219\n",
            "Epoch 33/100\n",
            "\u001b[1m24/24\u001b[0m \u001b[32m━━━━━━━━━━━━━━━━━━━━\u001b[0m\u001b[37m\u001b[0m \u001b[1m1s\u001b[0m 19ms/step - dense_11_accuracy: 0.9935 - dense_13_accuracy: 0.9913 - dense_15_accuracy: 0.9909 - dense_17_accuracy: 0.9862 - dense_19_accuracy: 0.9729 - loss: 0.7133 - val_dense_11_accuracy: 0.9814 - val_dense_13_accuracy: 0.9193 - val_dense_15_accuracy: 0.8385 - val_dense_17_accuracy: 0.8075 - val_dense_19_accuracy: 0.9193 - val_loss: 2.4036\n",
            "Epoch 34/100\n",
            "\u001b[1m24/24\u001b[0m \u001b[32m━━━━━━━━━━━━━━━━━━━━\u001b[0m\u001b[37m\u001b[0m \u001b[1m0s\u001b[0m 19ms/step - dense_11_accuracy: 0.9964 - dense_13_accuracy: 0.9861 - dense_15_accuracy: 0.9939 - dense_17_accuracy: 0.9878 - dense_19_accuracy: 0.9906 - loss: 0.6859 - val_dense_11_accuracy: 0.9752 - val_dense_13_accuracy: 0.9130 - val_dense_15_accuracy: 0.8323 - val_dense_17_accuracy: 0.8199 - val_dense_19_accuracy: 0.9255 - val_loss: 2.3075\n",
            "Epoch 35/100\n",
            "\u001b[1m24/24\u001b[0m \u001b[32m━━━━━━━━━━━━━━━━━━━━\u001b[0m\u001b[37m\u001b[0m \u001b[1m1s\u001b[0m 18ms/step - dense_11_accuracy: 0.9953 - dense_13_accuracy: 0.9879 - dense_15_accuracy: 0.9928 - dense_17_accuracy: 0.9848 - dense_19_accuracy: 0.9823 - loss: 0.6759 - val_dense_11_accuracy: 0.9876 - val_dense_13_accuracy: 0.9317 - val_dense_15_accuracy: 0.8385 - val_dense_17_accuracy: 0.8323 - val_dense_19_accuracy: 0.9193 - val_loss: 2.2650\n",
            "Epoch 36/100\n",
            "\u001b[1m24/24\u001b[0m \u001b[32m━━━━━━━━━━━━━━━━━━━━\u001b[0m\u001b[37m\u001b[0m \u001b[1m0s\u001b[0m 19ms/step - dense_11_accuracy: 0.9976 - dense_13_accuracy: 0.9987 - dense_15_accuracy: 0.9911 - dense_17_accuracy: 0.9891 - dense_19_accuracy: 0.9903 - loss: 0.6115 - val_dense_11_accuracy: 0.9814 - val_dense_13_accuracy: 0.9255 - val_dense_15_accuracy: 0.8261 - val_dense_17_accuracy: 0.8075 - val_dense_19_accuracy: 0.9193 - val_loss: 2.2562\n",
            "Epoch 37/100\n",
            "\u001b[1m24/24\u001b[0m \u001b[32m━━━━━━━━━━━━━━━━━━━━\u001b[0m\u001b[37m\u001b[0m \u001b[1m1s\u001b[0m 20ms/step - dense_11_accuracy: 0.9894 - dense_13_accuracy: 0.9986 - dense_15_accuracy: 0.9807 - dense_17_accuracy: 0.9909 - dense_19_accuracy: 0.9914 - loss: 0.6079 - val_dense_11_accuracy: 0.9876 - val_dense_13_accuracy: 0.9193 - val_dense_15_accuracy: 0.8261 - val_dense_17_accuracy: 0.8012 - val_dense_19_accuracy: 0.9130 - val_loss: 2.1998\n",
            "Epoch 38/100\n",
            "\u001b[1m24/24\u001b[0m \u001b[32m━━━━━━━━━━━━━━━━━━━━\u001b[0m\u001b[37m\u001b[0m \u001b[1m1s\u001b[0m 17ms/step - dense_11_accuracy: 0.9941 - dense_13_accuracy: 0.9995 - dense_15_accuracy: 0.9950 - dense_17_accuracy: 0.9905 - dense_19_accuracy: 0.9916 - loss: 0.5972 - val_dense_11_accuracy: 0.9752 - val_dense_13_accuracy: 0.9193 - val_dense_15_accuracy: 0.8261 - val_dense_17_accuracy: 0.7888 - val_dense_19_accuracy: 0.9317 - val_loss: 2.2753\n",
            "Epoch 39/100\n",
            "\u001b[1m24/24\u001b[0m \u001b[32m━━━━━━━━━━━━━━━━━━━━\u001b[0m\u001b[37m\u001b[0m \u001b[1m0s\u001b[0m 18ms/step - dense_11_accuracy: 0.9895 - dense_13_accuracy: 0.9910 - dense_15_accuracy: 0.9974 - dense_17_accuracy: 0.9932 - dense_19_accuracy: 0.9827 - loss: 0.5924 - val_dense_11_accuracy: 0.9876 - val_dense_13_accuracy: 0.9193 - val_dense_15_accuracy: 0.8261 - val_dense_17_accuracy: 0.8075 - val_dense_19_accuracy: 0.9317 - val_loss: 2.2112\n",
            "Epoch 40/100\n",
            "\u001b[1m24/24\u001b[0m \u001b[32m━━━━━━━━━━━━━━━━━━━━\u001b[0m\u001b[37m\u001b[0m \u001b[1m0s\u001b[0m 17ms/step - dense_11_accuracy: 0.9894 - dense_13_accuracy: 0.9884 - dense_15_accuracy: 0.9882 - dense_17_accuracy: 0.9899 - dense_19_accuracy: 0.9902 - loss: 0.5591 - val_dense_11_accuracy: 0.9876 - val_dense_13_accuracy: 0.9068 - val_dense_15_accuracy: 0.8509 - val_dense_17_accuracy: 0.8199 - val_dense_19_accuracy: 0.9255 - val_loss: 2.2308\n",
            "Epoch 41/100\n",
            "\u001b[1m24/24\u001b[0m \u001b[32m━━━━━━━━━━━━━━━━━━━━\u001b[0m\u001b[37m\u001b[0m \u001b[1m0s\u001b[0m 19ms/step - dense_11_accuracy: 0.9901 - dense_13_accuracy: 0.9946 - dense_15_accuracy: 0.9991 - dense_17_accuracy: 0.9879 - dense_19_accuracy: 0.9921 - loss: 0.5600 - val_dense_11_accuracy: 0.9814 - val_dense_13_accuracy: 0.9006 - val_dense_15_accuracy: 0.8571 - val_dense_17_accuracy: 0.8137 - val_dense_19_accuracy: 0.9255 - val_loss: 2.1614\n",
            "Epoch 42/100\n",
            "\u001b[1m24/24\u001b[0m \u001b[32m━━━━━━━━━━━━━━━━━━━━\u001b[0m\u001b[37m\u001b[0m \u001b[1m0s\u001b[0m 20ms/step - dense_11_accuracy: 0.9992 - dense_13_accuracy: 0.9987 - dense_15_accuracy: 0.9917 - dense_17_accuracy: 0.9944 - dense_19_accuracy: 0.9922 - loss: 0.5287 - val_dense_11_accuracy: 0.9938 - val_dense_13_accuracy: 0.9006 - val_dense_15_accuracy: 0.8447 - val_dense_17_accuracy: 0.8199 - val_dense_19_accuracy: 0.9255 - val_loss: 2.0811\n",
            "Epoch 43/100\n",
            "\u001b[1m24/24\u001b[0m \u001b[32m━━━━━━━━━━━━━━━━━━━━\u001b[0m\u001b[37m\u001b[0m \u001b[1m1s\u001b[0m 18ms/step - dense_11_accuracy: 0.9993 - dense_13_accuracy: 0.9908 - dense_15_accuracy: 0.9905 - dense_17_accuracy: 0.9880 - dense_19_accuracy: 0.9892 - loss: 0.5311 - val_dense_11_accuracy: 0.9938 - val_dense_13_accuracy: 0.9193 - val_dense_15_accuracy: 0.8571 - val_dense_17_accuracy: 0.8199 - val_dense_19_accuracy: 0.9193 - val_loss: 2.0613\n",
            "Epoch 44/100\n",
            "\u001b[1m24/24\u001b[0m \u001b[32m━━━━━━━━━━━━━━━━━━━━\u001b[0m\u001b[37m\u001b[0m \u001b[1m0s\u001b[0m 18ms/step - dense_11_accuracy: 0.9999 - dense_13_accuracy: 0.9961 - dense_15_accuracy: 0.9954 - dense_17_accuracy: 0.9897 - dense_19_accuracy: 0.9884 - loss: 0.5057 - val_dense_11_accuracy: 0.9814 - val_dense_13_accuracy: 0.9006 - val_dense_15_accuracy: 0.8323 - val_dense_17_accuracy: 0.8385 - val_dense_19_accuracy: 0.9255 - val_loss: 2.1423\n",
            "Epoch 45/100\n",
            "\u001b[1m24/24\u001b[0m \u001b[32m━━━━━━━━━━━━━━━━━━━━\u001b[0m\u001b[37m\u001b[0m \u001b[1m1s\u001b[0m 18ms/step - dense_11_accuracy: 0.9958 - dense_13_accuracy: 0.9985 - dense_15_accuracy: 0.9951 - dense_17_accuracy: 0.9936 - dense_19_accuracy: 0.9912 - loss: 0.4792 - val_dense_11_accuracy: 0.9814 - val_dense_13_accuracy: 0.9130 - val_dense_15_accuracy: 0.8323 - val_dense_17_accuracy: 0.8385 - val_dense_19_accuracy: 0.9317 - val_loss: 2.0382\n",
            "Epoch 46/100\n",
            "\u001b[1m24/24\u001b[0m \u001b[32m━━━━━━━━━━━━━━━━━━━━\u001b[0m\u001b[37m\u001b[0m \u001b[1m0s\u001b[0m 17ms/step - dense_11_accuracy: 0.9946 - dense_13_accuracy: 0.9918 - dense_15_accuracy: 0.9936 - dense_17_accuracy: 0.9938 - dense_19_accuracy: 0.9923 - loss: 0.4579 - val_dense_11_accuracy: 0.9938 - val_dense_13_accuracy: 0.9193 - val_dense_15_accuracy: 0.8323 - val_dense_17_accuracy: 0.8323 - val_dense_19_accuracy: 0.9317 - val_loss: 2.0432\n",
            "Epoch 47/100\n",
            "\u001b[1m24/24\u001b[0m \u001b[32m━━━━━━━━━━━━━━━━━━━━\u001b[0m\u001b[37m\u001b[0m \u001b[1m1s\u001b[0m 18ms/step - dense_11_accuracy: 0.9947 - dense_13_accuracy: 0.9942 - dense_15_accuracy: 0.9952 - dense_17_accuracy: 0.9921 - dense_19_accuracy: 0.9840 - loss: 0.4607 - val_dense_11_accuracy: 0.9814 - val_dense_13_accuracy: 0.9193 - val_dense_15_accuracy: 0.8509 - val_dense_17_accuracy: 0.8323 - val_dense_19_accuracy: 0.9441 - val_loss: 2.0143\n",
            "Epoch 48/100\n",
            "\u001b[1m24/24\u001b[0m \u001b[32m━━━━━━━━━━━━━━━━━━━━\u001b[0m\u001b[37m\u001b[0m \u001b[1m0s\u001b[0m 17ms/step - dense_11_accuracy: 0.9990 - dense_13_accuracy: 0.9973 - dense_15_accuracy: 0.9863 - dense_17_accuracy: 0.9898 - dense_19_accuracy: 0.9909 - loss: 0.4561 - val_dense_11_accuracy: 0.9876 - val_dense_13_accuracy: 0.9130 - val_dense_15_accuracy: 0.8261 - val_dense_17_accuracy: 0.8137 - val_dense_19_accuracy: 0.9255 - val_loss: 2.0200\n",
            "Epoch 49/100\n",
            "\u001b[1m24/24\u001b[0m \u001b[32m━━━━━━━━━━━━━━━━━━━━\u001b[0m\u001b[37m\u001b[0m \u001b[1m1s\u001b[0m 17ms/step - dense_11_accuracy: 0.9969 - dense_13_accuracy: 0.9913 - dense_15_accuracy: 0.9935 - dense_17_accuracy: 0.9951 - dense_19_accuracy: 0.9916 - loss: 0.4826 - val_dense_11_accuracy: 0.9814 - val_dense_13_accuracy: 0.9193 - val_dense_15_accuracy: 0.8199 - val_dense_17_accuracy: 0.8137 - val_dense_19_accuracy: 0.9255 - val_loss: 2.0948\n",
            "Epoch 50/100\n",
            "\u001b[1m24/24\u001b[0m \u001b[32m━━━━━━━━━━━━━━━━━━━━\u001b[0m\u001b[37m\u001b[0m \u001b[1m1s\u001b[0m 18ms/step - dense_11_accuracy: 0.9989 - dense_13_accuracy: 0.9975 - dense_15_accuracy: 0.9916 - dense_17_accuracy: 0.9900 - dense_19_accuracy: 0.9961 - loss: 0.4684 - val_dense_11_accuracy: 0.9938 - val_dense_13_accuracy: 0.9130 - val_dense_15_accuracy: 0.8571 - val_dense_17_accuracy: 0.8323 - val_dense_19_accuracy: 0.9193 - val_loss: 1.9902\n",
            "Epoch 51/100\n",
            "\u001b[1m24/24\u001b[0m \u001b[32m━━━━━━━━━━━━━━━━━━━━\u001b[0m\u001b[37m\u001b[0m \u001b[1m1s\u001b[0m 21ms/step - dense_11_accuracy: 1.0000 - dense_13_accuracy: 0.9942 - dense_15_accuracy: 0.9921 - dense_17_accuracy: 0.9926 - dense_19_accuracy: 0.9958 - loss: 0.4331 - val_dense_11_accuracy: 0.9876 - val_dense_13_accuracy: 0.8944 - val_dense_15_accuracy: 0.8261 - val_dense_17_accuracy: 0.8323 - val_dense_19_accuracy: 0.9379 - val_loss: 2.0142\n",
            "Epoch 52/100\n",
            "\u001b[1m24/24\u001b[0m \u001b[32m━━━━━━━━━━━━━━━━━━━━\u001b[0m\u001b[37m\u001b[0m \u001b[1m1s\u001b[0m 21ms/step - dense_11_accuracy: 0.9978 - dense_13_accuracy: 0.9940 - dense_15_accuracy: 0.9966 - dense_17_accuracy: 0.9881 - dense_19_accuracy: 0.9934 - loss: 0.4353 - val_dense_11_accuracy: 0.9876 - val_dense_13_accuracy: 0.9193 - val_dense_15_accuracy: 0.8261 - val_dense_17_accuracy: 0.8323 - val_dense_19_accuracy: 0.9441 - val_loss: 1.9601\n",
            "Epoch 53/100\n",
            "\u001b[1m24/24\u001b[0m \u001b[32m━━━━━━━━━━━━━━━━━━━━\u001b[0m\u001b[37m\u001b[0m \u001b[1m1s\u001b[0m 22ms/step - dense_11_accuracy: 0.9962 - dense_13_accuracy: 0.9997 - dense_15_accuracy: 0.9983 - dense_17_accuracy: 0.9956 - dense_19_accuracy: 0.9973 - loss: 0.4103 - val_dense_11_accuracy: 0.9876 - val_dense_13_accuracy: 0.9193 - val_dense_15_accuracy: 0.8509 - val_dense_17_accuracy: 0.8261 - val_dense_19_accuracy: 0.9503 - val_loss: 1.8592\n",
            "Epoch 54/100\n",
            "\u001b[1m24/24\u001b[0m \u001b[32m━━━━━━━━━━━━━━━━━━━━\u001b[0m\u001b[37m\u001b[0m \u001b[1m1s\u001b[0m 20ms/step - dense_11_accuracy: 0.9916 - dense_13_accuracy: 0.9977 - dense_15_accuracy: 0.9980 - dense_17_accuracy: 0.9887 - dense_19_accuracy: 0.9933 - loss: 0.4021 - val_dense_11_accuracy: 0.9876 - val_dense_13_accuracy: 0.9317 - val_dense_15_accuracy: 0.8323 - val_dense_17_accuracy: 0.8261 - val_dense_19_accuracy: 0.9441 - val_loss: 1.9057\n",
            "Epoch 55/100\n",
            "\u001b[1m24/24\u001b[0m \u001b[32m━━━━━━━━━━━━━━━━━━━━\u001b[0m\u001b[37m\u001b[0m \u001b[1m1s\u001b[0m 22ms/step - dense_11_accuracy: 0.9937 - dense_13_accuracy: 0.9988 - dense_15_accuracy: 0.9922 - dense_17_accuracy: 0.9831 - dense_19_accuracy: 0.9935 - loss: 0.4123 - val_dense_11_accuracy: 0.9938 - val_dense_13_accuracy: 0.9193 - val_dense_15_accuracy: 0.8323 - val_dense_17_accuracy: 0.8323 - val_dense_19_accuracy: 0.9379 - val_loss: 1.8871\n",
            "Epoch 56/100\n",
            "\u001b[1m24/24\u001b[0m \u001b[32m━━━━━━━━━━━━━━━━━━━━\u001b[0m\u001b[37m\u001b[0m \u001b[1m1s\u001b[0m 20ms/step - dense_11_accuracy: 0.9909 - dense_13_accuracy: 0.9978 - dense_15_accuracy: 0.9923 - dense_17_accuracy: 0.9984 - dense_19_accuracy: 0.9915 - loss: 0.3756 - val_dense_11_accuracy: 0.9876 - val_dense_13_accuracy: 0.9255 - val_dense_15_accuracy: 0.8509 - val_dense_17_accuracy: 0.8385 - val_dense_19_accuracy: 0.9317 - val_loss: 1.9225\n",
            "Epoch 57/100\n",
            "\u001b[1m24/24\u001b[0m \u001b[32m━━━━━━━━━━━━━━━━━━━━\u001b[0m\u001b[37m\u001b[0m \u001b[1m1s\u001b[0m 20ms/step - dense_11_accuracy: 0.9984 - dense_13_accuracy: 1.0000 - dense_15_accuracy: 0.9973 - dense_17_accuracy: 0.9980 - dense_19_accuracy: 0.9938 - loss: 0.3524 - val_dense_11_accuracy: 0.9876 - val_dense_13_accuracy: 0.9255 - val_dense_15_accuracy: 0.8634 - val_dense_17_accuracy: 0.8323 - val_dense_19_accuracy: 0.9255 - val_loss: 1.9013\n",
            "Epoch 58/100\n",
            "\u001b[1m24/24\u001b[0m \u001b[32m━━━━━━━━━━━━━━━━━━━━\u001b[0m\u001b[37m\u001b[0m \u001b[1m1s\u001b[0m 17ms/step - dense_11_accuracy: 0.9996 - dense_13_accuracy: 0.9943 - dense_15_accuracy: 0.9881 - dense_17_accuracy: 0.9925 - dense_19_accuracy: 0.9967 - loss: 0.3698 - val_dense_11_accuracy: 0.9876 - val_dense_13_accuracy: 0.9068 - val_dense_15_accuracy: 0.8323 - val_dense_17_accuracy: 0.8261 - val_dense_19_accuracy: 0.9317 - val_loss: 1.9552\n",
            "Epoch 59/100\n",
            "\u001b[1m24/24\u001b[0m \u001b[32m━━━━━━━━━━━━━━━━━━━━\u001b[0m\u001b[37m\u001b[0m \u001b[1m0s\u001b[0m 17ms/step - dense_11_accuracy: 0.9979 - dense_13_accuracy: 0.9965 - dense_15_accuracy: 0.9886 - dense_17_accuracy: 0.9908 - dense_19_accuracy: 0.9858 - loss: 0.4005 - val_dense_11_accuracy: 0.9876 - val_dense_13_accuracy: 0.9068 - val_dense_15_accuracy: 0.8509 - val_dense_17_accuracy: 0.8199 - val_dense_19_accuracy: 0.9255 - val_loss: 1.9243\n",
            "Epoch 60/100\n",
            "\u001b[1m24/24\u001b[0m \u001b[32m━━━━━━━━━━━━━━━━━━━━\u001b[0m\u001b[37m\u001b[0m \u001b[1m0s\u001b[0m 19ms/step - dense_11_accuracy: 0.9975 - dense_13_accuracy: 0.9949 - dense_15_accuracy: 0.9913 - dense_17_accuracy: 0.9917 - dense_19_accuracy: 0.9949 - loss: 0.3678 - val_dense_11_accuracy: 0.9876 - val_dense_13_accuracy: 0.9193 - val_dense_15_accuracy: 0.8447 - val_dense_17_accuracy: 0.8261 - val_dense_19_accuracy: 0.9255 - val_loss: 1.9231\n",
            "Epoch 61/100\n",
            "\u001b[1m24/24\u001b[0m \u001b[32m━━━━━━━━━━━━━━━━━━━━\u001b[0m\u001b[37m\u001b[0m \u001b[1m0s\u001b[0m 17ms/step - dense_11_accuracy: 0.9889 - dense_13_accuracy: 0.9970 - dense_15_accuracy: 0.9950 - dense_17_accuracy: 0.9941 - dense_19_accuracy: 0.9990 - loss: 0.3319 - val_dense_11_accuracy: 0.9814 - val_dense_13_accuracy: 0.9317 - val_dense_15_accuracy: 0.8509 - val_dense_17_accuracy: 0.8137 - val_dense_19_accuracy: 0.9193 - val_loss: 1.9015\n",
            "Epoch 62/100\n",
            "\u001b[1m24/24\u001b[0m \u001b[32m━━━━━━━━━━━━━━━━━━━━\u001b[0m\u001b[37m\u001b[0m \u001b[1m0s\u001b[0m 17ms/step - dense_11_accuracy: 0.9958 - dense_13_accuracy: 0.9977 - dense_15_accuracy: 0.9929 - dense_17_accuracy: 0.9959 - dense_19_accuracy: 0.9956 - loss: 0.3328 - val_dense_11_accuracy: 0.9814 - val_dense_13_accuracy: 0.9255 - val_dense_15_accuracy: 0.8571 - val_dense_17_accuracy: 0.8261 - val_dense_19_accuracy: 0.9379 - val_loss: 1.8677\n",
            "Epoch 63/100\n",
            "\u001b[1m24/24\u001b[0m \u001b[32m━━━━━━━━━━━━━━━━━━━━\u001b[0m\u001b[37m\u001b[0m \u001b[1m1s\u001b[0m 18ms/step - dense_11_accuracy: 0.9984 - dense_13_accuracy: 0.9937 - dense_15_accuracy: 0.9987 - dense_17_accuracy: 0.9948 - dense_19_accuracy: 0.9994 - loss: 0.3064 - val_dense_11_accuracy: 0.9876 - val_dense_13_accuracy: 0.9317 - val_dense_15_accuracy: 0.8571 - val_dense_17_accuracy: 0.8261 - val_dense_19_accuracy: 0.9255 - val_loss: 1.8332\n",
            "Epoch 64/100\n",
            "\u001b[1m24/24\u001b[0m \u001b[32m━━━━━━━━━━━━━━━━━━━━\u001b[0m\u001b[37m\u001b[0m \u001b[1m0s\u001b[0m 17ms/step - dense_11_accuracy: 0.9945 - dense_13_accuracy: 0.9973 - dense_15_accuracy: 0.9944 - dense_17_accuracy: 0.9915 - dense_19_accuracy: 0.9917 - loss: 0.3279 - val_dense_11_accuracy: 0.9814 - val_dense_13_accuracy: 0.9255 - val_dense_15_accuracy: 0.8447 - val_dense_17_accuracy: 0.8199 - val_dense_19_accuracy: 0.9441 - val_loss: 1.8679\n",
            "Epoch 65/100\n",
            "\u001b[1m24/24\u001b[0m \u001b[32m━━━━━━━━━━━━━━━━━━━━\u001b[0m\u001b[37m\u001b[0m \u001b[1m1s\u001b[0m 18ms/step - dense_11_accuracy: 0.9899 - dense_13_accuracy: 0.9999 - dense_15_accuracy: 0.9892 - dense_17_accuracy: 0.9963 - dense_19_accuracy: 0.9932 - loss: 0.3268 - val_dense_11_accuracy: 0.9814 - val_dense_13_accuracy: 0.9317 - val_dense_15_accuracy: 0.8634 - val_dense_17_accuracy: 0.8261 - val_dense_19_accuracy: 0.9255 - val_loss: 1.8247\n",
            "Epoch 66/100\n",
            "\u001b[1m24/24\u001b[0m \u001b[32m━━━━━━━━━━━━━━━━━━━━\u001b[0m\u001b[37m\u001b[0m \u001b[1m1s\u001b[0m 18ms/step - dense_11_accuracy: 0.9953 - dense_13_accuracy: 0.9953 - dense_15_accuracy: 0.9979 - dense_17_accuracy: 0.9927 - dense_19_accuracy: 0.9952 - loss: 0.2897 - val_dense_11_accuracy: 0.9938 - val_dense_13_accuracy: 0.9317 - val_dense_15_accuracy: 0.8385 - val_dense_17_accuracy: 0.8323 - val_dense_19_accuracy: 0.9193 - val_loss: 1.8295\n",
            "Epoch 67/100\n",
            "\u001b[1m24/24\u001b[0m \u001b[32m━━━━━━━━━━━━━━━━━━━━\u001b[0m\u001b[37m\u001b[0m \u001b[1m1s\u001b[0m 19ms/step - dense_11_accuracy: 0.9905 - dense_13_accuracy: 0.9972 - dense_15_accuracy: 0.9952 - dense_17_accuracy: 0.9949 - dense_19_accuracy: 0.9904 - loss: 0.3587 - val_dense_11_accuracy: 0.9814 - val_dense_13_accuracy: 0.9193 - val_dense_15_accuracy: 0.8385 - val_dense_17_accuracy: 0.8447 - val_dense_19_accuracy: 0.9255 - val_loss: 1.9653\n",
            "Epoch 68/100\n",
            "\u001b[1m24/24\u001b[0m \u001b[32m━━━━━━━━━━━━━━━━━━━━\u001b[0m\u001b[37m\u001b[0m \u001b[1m1s\u001b[0m 17ms/step - dense_11_accuracy: 0.9966 - dense_13_accuracy: 0.9935 - dense_15_accuracy: 0.9985 - dense_17_accuracy: 0.9892 - dense_19_accuracy: 0.9971 - loss: 0.3325 - val_dense_11_accuracy: 0.9814 - val_dense_13_accuracy: 0.9130 - val_dense_15_accuracy: 0.8323 - val_dense_17_accuracy: 0.8385 - val_dense_19_accuracy: 0.9379 - val_loss: 1.8977\n",
            "Epoch 69/100\n",
            "\u001b[1m24/24\u001b[0m \u001b[32m━━━━━━━━━━━━━━━━━━━━\u001b[0m\u001b[37m\u001b[0m \u001b[1m0s\u001b[0m 18ms/step - dense_11_accuracy: 0.9903 - dense_13_accuracy: 0.9971 - dense_15_accuracy: 0.9935 - dense_17_accuracy: 0.9913 - dense_19_accuracy: 0.9943 - loss: 0.2894 - val_dense_11_accuracy: 0.9876 - val_dense_13_accuracy: 0.9130 - val_dense_15_accuracy: 0.8447 - val_dense_17_accuracy: 0.8323 - val_dense_19_accuracy: 0.9255 - val_loss: 1.8928\n",
            "Epoch 70/100\n",
            "\u001b[1m24/24\u001b[0m \u001b[32m━━━━━━━━━━━━━━━━━━━━\u001b[0m\u001b[37m\u001b[0m \u001b[1m0s\u001b[0m 18ms/step - dense_11_accuracy: 0.9945 - dense_13_accuracy: 0.9960 - dense_15_accuracy: 0.9948 - dense_17_accuracy: 0.9962 - dense_19_accuracy: 0.9961 - loss: 0.2765 - val_dense_11_accuracy: 0.9814 - val_dense_13_accuracy: 0.9193 - val_dense_15_accuracy: 0.8571 - val_dense_17_accuracy: 0.8447 - val_dense_19_accuracy: 0.9379 - val_loss: 1.8737\n",
            "Epoch 71/100\n",
            "\u001b[1m24/24\u001b[0m \u001b[32m━━━━━━━━━━━━━━━━━━━━\u001b[0m\u001b[37m\u001b[0m \u001b[1m1s\u001b[0m 17ms/step - dense_11_accuracy: 0.9949 - dense_13_accuracy: 0.9972 - dense_15_accuracy: 0.9967 - dense_17_accuracy: 0.9844 - dense_19_accuracy: 0.9965 - loss: 0.3256 - val_dense_11_accuracy: 0.9876 - val_dense_13_accuracy: 0.9317 - val_dense_15_accuracy: 0.8385 - val_dense_17_accuracy: 0.8447 - val_dense_19_accuracy: 0.9379 - val_loss: 1.8328\n",
            "Epoch 72/100\n",
            "\u001b[1m24/24\u001b[0m \u001b[32m━━━━━━━━━━━━━━━━━━━━\u001b[0m\u001b[37m\u001b[0m \u001b[1m0s\u001b[0m 18ms/step - dense_11_accuracy: 0.9985 - dense_13_accuracy: 0.9927 - dense_15_accuracy: 1.0000 - dense_17_accuracy: 0.9959 - dense_19_accuracy: 0.9915 - loss: 0.2740 - val_dense_11_accuracy: 0.9876 - val_dense_13_accuracy: 0.9317 - val_dense_15_accuracy: 0.8447 - val_dense_17_accuracy: 0.8634 - val_dense_19_accuracy: 0.9317 - val_loss: 1.7631\n",
            "Epoch 73/100\n",
            "\u001b[1m24/24\u001b[0m \u001b[32m━━━━━━━━━━━━━━━━━━━━\u001b[0m\u001b[37m\u001b[0m \u001b[1m1s\u001b[0m 17ms/step - dense_11_accuracy: 0.9927 - dense_13_accuracy: 0.9960 - dense_15_accuracy: 0.9964 - dense_17_accuracy: 0.9956 - dense_19_accuracy: 0.9987 - loss: 0.2655 - val_dense_11_accuracy: 0.9876 - val_dense_13_accuracy: 0.9317 - val_dense_15_accuracy: 0.8571 - val_dense_17_accuracy: 0.8696 - val_dense_19_accuracy: 0.9317 - val_loss: 1.8237\n",
            "Epoch 74/100\n",
            "\u001b[1m24/24\u001b[0m \u001b[32m━━━━━━━━━━━━━━━━━━━━\u001b[0m\u001b[37m\u001b[0m \u001b[1m1s\u001b[0m 17ms/step - dense_11_accuracy: 0.9958 - dense_13_accuracy: 0.9985 - dense_15_accuracy: 0.9993 - dense_17_accuracy: 0.9962 - dense_19_accuracy: 0.9864 - loss: 0.2731 - val_dense_11_accuracy: 0.9876 - val_dense_13_accuracy: 0.9255 - val_dense_15_accuracy: 0.8447 - val_dense_17_accuracy: 0.8634 - val_dense_19_accuracy: 0.9379 - val_loss: 1.8106\n",
            "Epoch 75/100\n",
            "\u001b[1m24/24\u001b[0m \u001b[32m━━━━━━━━━━━━━━━━━━━━\u001b[0m\u001b[37m\u001b[0m \u001b[1m1s\u001b[0m 17ms/step - dense_11_accuracy: 0.9956 - dense_13_accuracy: 0.9976 - dense_15_accuracy: 0.9981 - dense_17_accuracy: 0.9993 - dense_19_accuracy: 0.9901 - loss: 0.2695 - val_dense_11_accuracy: 0.9876 - val_dense_13_accuracy: 0.9255 - val_dense_15_accuracy: 0.8509 - val_dense_17_accuracy: 0.8634 - val_dense_19_accuracy: 0.9317 - val_loss: 1.8134\n",
            "Epoch 76/100\n",
            "\u001b[1m24/24\u001b[0m \u001b[32m━━━━━━━━━━━━━━━━━━━━\u001b[0m\u001b[37m\u001b[0m \u001b[1m1s\u001b[0m 22ms/step - dense_11_accuracy: 0.9954 - dense_13_accuracy: 0.9987 - dense_15_accuracy: 0.9917 - dense_17_accuracy: 0.9894 - dense_19_accuracy: 0.9954 - loss: 0.2746 - val_dense_11_accuracy: 0.9876 - val_dense_13_accuracy: 0.9255 - val_dense_15_accuracy: 0.8509 - val_dense_17_accuracy: 0.8571 - val_dense_19_accuracy: 0.9317 - val_loss: 1.7399\n",
            "Epoch 77/100\n",
            "\u001b[1m24/24\u001b[0m \u001b[32m━━━━━━━━━━━━━━━━━━━━\u001b[0m\u001b[37m\u001b[0m \u001b[1m1s\u001b[0m 20ms/step - dense_11_accuracy: 1.0000 - dense_13_accuracy: 0.9922 - dense_15_accuracy: 0.9978 - dense_17_accuracy: 0.9965 - dense_19_accuracy: 0.9946 - loss: 0.2357 - val_dense_11_accuracy: 0.9814 - val_dense_13_accuracy: 0.9193 - val_dense_15_accuracy: 0.8634 - val_dense_17_accuracy: 0.8261 - val_dense_19_accuracy: 0.9317 - val_loss: 1.8551\n",
            "Epoch 78/100\n",
            "\u001b[1m24/24\u001b[0m \u001b[32m━━━━━━━━━━━━━━━━━━━━\u001b[0m\u001b[37m\u001b[0m \u001b[1m1s\u001b[0m 21ms/step - dense_11_accuracy: 0.9993 - dense_13_accuracy: 0.9987 - dense_15_accuracy: 0.9993 - dense_17_accuracy: 0.9953 - dense_19_accuracy: 0.9997 - loss: 0.2401 - val_dense_11_accuracy: 0.9814 - val_dense_13_accuracy: 0.9317 - val_dense_15_accuracy: 0.8385 - val_dense_17_accuracy: 0.8634 - val_dense_19_accuracy: 0.9317 - val_loss: 1.7674\n",
            "Epoch 79/100\n",
            "\u001b[1m24/24\u001b[0m \u001b[32m━━━━━━━━━━━━━━━━━━━━\u001b[0m\u001b[37m\u001b[0m \u001b[1m1s\u001b[0m 22ms/step - dense_11_accuracy: 0.9969 - dense_13_accuracy: 0.9979 - dense_15_accuracy: 0.9997 - dense_17_accuracy: 0.9934 - dense_19_accuracy: 0.9944 - loss: 0.2410 - val_dense_11_accuracy: 0.9689 - val_dense_13_accuracy: 0.9255 - val_dense_15_accuracy: 0.8447 - val_dense_17_accuracy: 0.8385 - val_dense_19_accuracy: 0.9441 - val_loss: 1.8629\n",
            "Epoch 80/100\n",
            "\u001b[1m24/24\u001b[0m \u001b[32m━━━━━━━━━━━━━━━━━━━━\u001b[0m\u001b[37m\u001b[0m \u001b[1m1s\u001b[0m 19ms/step - dense_11_accuracy: 1.0000 - dense_13_accuracy: 0.9975 - dense_15_accuracy: 0.9976 - dense_17_accuracy: 0.9932 - dense_19_accuracy: 0.9939 - loss: 0.2416 - val_dense_11_accuracy: 0.9876 - val_dense_13_accuracy: 0.9317 - val_dense_15_accuracy: 0.8447 - val_dense_17_accuracy: 0.8323 - val_dense_19_accuracy: 0.9317 - val_loss: 1.8408\n",
            "Epoch 81/100\n",
            "\u001b[1m24/24\u001b[0m \u001b[32m━━━━━━━━━━━━━━━━━━━━\u001b[0m\u001b[37m\u001b[0m \u001b[1m1s\u001b[0m 21ms/step - dense_11_accuracy: 0.9958 - dense_13_accuracy: 1.0000 - dense_15_accuracy: 1.0000 - dense_17_accuracy: 0.9901 - dense_19_accuracy: 0.9938 - loss: 0.2349 - val_dense_11_accuracy: 0.9938 - val_dense_13_accuracy: 0.9255 - val_dense_15_accuracy: 0.8385 - val_dense_17_accuracy: 0.8323 - val_dense_19_accuracy: 0.9255 - val_loss: 1.8488\n",
            "Epoch 82/100\n",
            "\u001b[1m24/24\u001b[0m \u001b[32m━━━━━━━━━━━━━━━━━━━━\u001b[0m\u001b[37m\u001b[0m \u001b[1m1s\u001b[0m 18ms/step - dense_11_accuracy: 0.9991 - dense_13_accuracy: 0.9989 - dense_15_accuracy: 0.9992 - dense_17_accuracy: 0.9879 - dense_19_accuracy: 0.9966 - loss: 0.2407 - val_dense_11_accuracy: 0.9876 - val_dense_13_accuracy: 0.9193 - val_dense_15_accuracy: 0.8385 - val_dense_17_accuracy: 0.8137 - val_dense_19_accuracy: 0.9255 - val_loss: 1.8300\n",
            "Epoch 83/100\n",
            "\u001b[1m24/24\u001b[0m \u001b[32m━━━━━━━━━━━━━━━━━━━━\u001b[0m\u001b[37m\u001b[0m \u001b[1m0s\u001b[0m 19ms/step - dense_11_accuracy: 0.9975 - dense_13_accuracy: 0.9958 - dense_15_accuracy: 0.9957 - dense_17_accuracy: 0.9922 - dense_19_accuracy: 0.9977 - loss: 0.2328 - val_dense_11_accuracy: 0.9938 - val_dense_13_accuracy: 0.9379 - val_dense_15_accuracy: 0.8509 - val_dense_17_accuracy: 0.8199 - val_dense_19_accuracy: 0.9317 - val_loss: 1.8417\n",
            "Epoch 84/100\n",
            "\u001b[1m24/24\u001b[0m \u001b[32m━━━━━━━━━━━━━━━━━━━━\u001b[0m\u001b[37m\u001b[0m \u001b[1m1s\u001b[0m 17ms/step - dense_11_accuracy: 0.9983 - dense_13_accuracy: 0.9940 - dense_15_accuracy: 0.9968 - dense_17_accuracy: 0.9852 - dense_19_accuracy: 0.9980 - loss: 0.2359 - val_dense_11_accuracy: 0.9876 - val_dense_13_accuracy: 0.9255 - val_dense_15_accuracy: 0.8447 - val_dense_17_accuracy: 0.8261 - val_dense_19_accuracy: 0.9441 - val_loss: 1.8812\n",
            "Epoch 85/100\n",
            "\u001b[1m24/24\u001b[0m \u001b[32m━━━━━━━━━━━━━━━━━━━━\u001b[0m\u001b[37m\u001b[0m \u001b[1m0s\u001b[0m 18ms/step - dense_11_accuracy: 0.9966 - dense_13_accuracy: 0.9986 - dense_15_accuracy: 0.9990 - dense_17_accuracy: 0.9940 - dense_19_accuracy: 0.9963 - loss: 0.2270 - val_dense_11_accuracy: 0.9814 - val_dense_13_accuracy: 0.9379 - val_dense_15_accuracy: 0.8571 - val_dense_17_accuracy: 0.8447 - val_dense_19_accuracy: 0.9317 - val_loss: 1.8497\n",
            "Epoch 86/100\n",
            "\u001b[1m24/24\u001b[0m \u001b[32m━━━━━━━━━━━━━━━━━━━━\u001b[0m\u001b[37m\u001b[0m \u001b[1m1s\u001b[0m 17ms/step - dense_11_accuracy: 1.0000 - dense_13_accuracy: 1.0000 - dense_15_accuracy: 0.9977 - dense_17_accuracy: 0.9962 - dense_19_accuracy: 0.9974 - loss: 0.2112 - val_dense_11_accuracy: 0.9876 - val_dense_13_accuracy: 0.9379 - val_dense_15_accuracy: 0.8509 - val_dense_17_accuracy: 0.8509 - val_dense_19_accuracy: 0.9379 - val_loss: 1.8277\n"
          ]
        }
      ]
    },
    {
      "cell_type": "code",
      "source": [
        "def makePredict(captcha):\n",
        "    captcha = np.reshape(captcha , (1, 50,200,1))\n",
        "    result = model_4.predict(captcha)\n",
        "    result = np.reshape(result ,(5,19))\n",
        "\n",
        "    label = ''.join([symbols[np.argmax(i)] for i in result])\n",
        "\n",
        "    return label\n",
        "def capcha_back(y, symbols = symbols):\n",
        "  label = ['','','','','']\n",
        "  for i in range(5):\n",
        "    for j in range(19):\n",
        "      if y[i][j] == 1:\n",
        "        label[i] = symbols[j]\n",
        "  return ''.join(label)\n",
        "\n",
        "print(symbols)\n",
        "count = 0\n",
        "for i in range(X_test.shape[0]):\n",
        "  pred = makePredict(X_test[i])\n",
        "  if pred != capcha_back(y_test[i]):\n",
        "    count+=1\n",
        "\n",
        "\n"
      ],
      "metadata": {
        "colab": {
          "base_uri": "https://localhost:8080/"
        },
        "id": "pLY0LNqBtUtK",
        "outputId": "c39485df-91f5-4619-9715-0e66a934c7b7",
        "collapsed": true
      },
      "execution_count": null,
      "outputs": [
        {
          "output_type": "stream",
          "name": "stdout",
          "text": [
            "['d', '7', 'n', '3', '4', '2', 'w', '6', 'f', '5', 'x', 'p', 'c', 'y', 'm', 'g', 'e', 'b', '8']\n",
            "\u001b[1m1/1\u001b[0m \u001b[32m━━━━━━━━━━━━━━━━━━━━\u001b[0m\u001b[37m\u001b[0m \u001b[1m1s\u001b[0m 638ms/step\n",
            "\u001b[1m1/1\u001b[0m \u001b[32m━━━━━━━━━━━━━━━━━━━━\u001b[0m\u001b[37m\u001b[0m \u001b[1m0s\u001b[0m 16ms/step\n",
            "\u001b[1m1/1\u001b[0m \u001b[32m━━━━━━━━━━━━━━━━━━━━\u001b[0m\u001b[37m\u001b[0m \u001b[1m0s\u001b[0m 15ms/step\n",
            "\u001b[1m1/1\u001b[0m \u001b[32m━━━━━━━━━━━━━━━━━━━━\u001b[0m\u001b[37m\u001b[0m \u001b[1m0s\u001b[0m 15ms/step\n",
            "\u001b[1m1/1\u001b[0m \u001b[32m━━━━━━━━━━━━━━━━━━━━\u001b[0m\u001b[37m\u001b[0m \u001b[1m0s\u001b[0m 15ms/step\n",
            "\u001b[1m1/1\u001b[0m \u001b[32m━━━━━━━━━━━━━━━━━━━━\u001b[0m\u001b[37m\u001b[0m \u001b[1m0s\u001b[0m 15ms/step\n",
            "\u001b[1m1/1\u001b[0m \u001b[32m━━━━━━━━━━━━━━━━━━━━\u001b[0m\u001b[37m\u001b[0m \u001b[1m0s\u001b[0m 18ms/step\n",
            "\u001b[1m1/1\u001b[0m \u001b[32m━━━━━━━━━━━━━━━━━━━━\u001b[0m\u001b[37m\u001b[0m \u001b[1m0s\u001b[0m 17ms/step\n",
            "\u001b[1m1/1\u001b[0m \u001b[32m━━━━━━━━━━━━━━━━━━━━\u001b[0m\u001b[37m\u001b[0m \u001b[1m0s\u001b[0m 17ms/step\n",
            "\u001b[1m1/1\u001b[0m \u001b[32m━━━━━━━━━━━━━━━━━━━━\u001b[0m\u001b[37m\u001b[0m \u001b[1m0s\u001b[0m 19ms/step\n",
            "\u001b[1m1/1\u001b[0m \u001b[32m━━━━━━━━━━━━━━━━━━━━\u001b[0m\u001b[37m\u001b[0m \u001b[1m0s\u001b[0m 16ms/step\n",
            "\u001b[1m1/1\u001b[0m \u001b[32m━━━━━━━━━━━━━━━━━━━━\u001b[0m\u001b[37m\u001b[0m \u001b[1m0s\u001b[0m 15ms/step\n",
            "\u001b[1m1/1\u001b[0m \u001b[32m━━━━━━━━━━━━━━━━━━━━\u001b[0m\u001b[37m\u001b[0m \u001b[1m0s\u001b[0m 16ms/step\n",
            "\u001b[1m1/1\u001b[0m \u001b[32m━━━━━━━━━━━━━━━━━━━━\u001b[0m\u001b[37m\u001b[0m \u001b[1m0s\u001b[0m 15ms/step\n",
            "\u001b[1m1/1\u001b[0m \u001b[32m━━━━━━━━━━━━━━━━━━━━\u001b[0m\u001b[37m\u001b[0m \u001b[1m0s\u001b[0m 21ms/step\n",
            "\u001b[1m1/1\u001b[0m \u001b[32m━━━━━━━━━━━━━━━━━━━━\u001b[0m\u001b[37m\u001b[0m \u001b[1m0s\u001b[0m 15ms/step\n",
            "\u001b[1m1/1\u001b[0m \u001b[32m━━━━━━━━━━━━━━━━━━━━\u001b[0m\u001b[37m\u001b[0m \u001b[1m0s\u001b[0m 17ms/step\n",
            "\u001b[1m1/1\u001b[0m \u001b[32m━━━━━━━━━━━━━━━━━━━━\u001b[0m\u001b[37m\u001b[0m \u001b[1m0s\u001b[0m 15ms/step\n",
            "\u001b[1m1/1\u001b[0m \u001b[32m━━━━━━━━━━━━━━━━━━━━\u001b[0m\u001b[37m\u001b[0m \u001b[1m0s\u001b[0m 15ms/step\n",
            "\u001b[1m1/1\u001b[0m \u001b[32m━━━━━━━━━━━━━━━━━━━━\u001b[0m\u001b[37m\u001b[0m \u001b[1m0s\u001b[0m 17ms/step\n",
            "\u001b[1m1/1\u001b[0m \u001b[32m━━━━━━━━━━━━━━━━━━━━\u001b[0m\u001b[37m\u001b[0m \u001b[1m0s\u001b[0m 16ms/step\n",
            "\u001b[1m1/1\u001b[0m \u001b[32m━━━━━━━━━━━━━━━━━━━━\u001b[0m\u001b[37m\u001b[0m \u001b[1m0s\u001b[0m 19ms/step\n",
            "\u001b[1m1/1\u001b[0m \u001b[32m━━━━━━━━━━━━━━━━━━━━\u001b[0m\u001b[37m\u001b[0m \u001b[1m0s\u001b[0m 16ms/step\n",
            "\u001b[1m1/1\u001b[0m \u001b[32m━━━━━━━━━━━━━━━━━━━━\u001b[0m\u001b[37m\u001b[0m \u001b[1m0s\u001b[0m 16ms/step\n",
            "\u001b[1m1/1\u001b[0m \u001b[32m━━━━━━━━━━━━━━━━━━━━\u001b[0m\u001b[37m\u001b[0m \u001b[1m0s\u001b[0m 16ms/step\n",
            "\u001b[1m1/1\u001b[0m \u001b[32m━━━━━━━━━━━━━━━━━━━━\u001b[0m\u001b[37m\u001b[0m \u001b[1m0s\u001b[0m 19ms/step\n",
            "\u001b[1m1/1\u001b[0m \u001b[32m━━━━━━━━━━━━━━━━━━━━\u001b[0m\u001b[37m\u001b[0m \u001b[1m0s\u001b[0m 24ms/step\n",
            "\u001b[1m1/1\u001b[0m \u001b[32m━━━━━━━━━━━━━━━━━━━━\u001b[0m\u001b[37m\u001b[0m \u001b[1m0s\u001b[0m 15ms/step\n",
            "\u001b[1m1/1\u001b[0m \u001b[32m━━━━━━━━━━━━━━━━━━━━\u001b[0m\u001b[37m\u001b[0m \u001b[1m0s\u001b[0m 15ms/step\n",
            "\u001b[1m1/1\u001b[0m \u001b[32m━━━━━━━━━━━━━━━━━━━━\u001b[0m\u001b[37m\u001b[0m \u001b[1m0s\u001b[0m 14ms/step\n",
            "\u001b[1m1/1\u001b[0m \u001b[32m━━━━━━━━━━━━━━━━━━━━\u001b[0m\u001b[37m\u001b[0m \u001b[1m0s\u001b[0m 15ms/step\n",
            "\u001b[1m1/1\u001b[0m \u001b[32m━━━━━━━━━━━━━━━━━━━━\u001b[0m\u001b[37m\u001b[0m \u001b[1m0s\u001b[0m 17ms/step\n",
            "\u001b[1m1/1\u001b[0m \u001b[32m━━━━━━━━━━━━━━━━━━━━\u001b[0m\u001b[37m\u001b[0m \u001b[1m0s\u001b[0m 16ms/step\n",
            "\u001b[1m1/1\u001b[0m \u001b[32m━━━━━━━━━━━━━━━━━━━━\u001b[0m\u001b[37m\u001b[0m \u001b[1m0s\u001b[0m 16ms/step\n",
            "\u001b[1m1/1\u001b[0m \u001b[32m━━━━━━━━━━━━━━━━━━━━\u001b[0m\u001b[37m\u001b[0m \u001b[1m0s\u001b[0m 16ms/step\n",
            "\u001b[1m1/1\u001b[0m \u001b[32m━━━━━━━━━━━━━━━━━━━━\u001b[0m\u001b[37m\u001b[0m \u001b[1m0s\u001b[0m 16ms/step\n",
            "\u001b[1m1/1\u001b[0m \u001b[32m━━━━━━━━━━━━━━━━━━━━\u001b[0m\u001b[37m\u001b[0m \u001b[1m0s\u001b[0m 25ms/step\n",
            "\u001b[1m1/1\u001b[0m \u001b[32m━━━━━━━━━━━━━━━━━━━━\u001b[0m\u001b[37m\u001b[0m \u001b[1m0s\u001b[0m 17ms/step\n",
            "\u001b[1m1/1\u001b[0m \u001b[32m━━━━━━━━━━━━━━━━━━━━\u001b[0m\u001b[37m\u001b[0m \u001b[1m0s\u001b[0m 15ms/step\n",
            "\u001b[1m1/1\u001b[0m \u001b[32m━━━━━━━━━━━━━━━━━━━━\u001b[0m\u001b[37m\u001b[0m \u001b[1m0s\u001b[0m 15ms/step\n",
            "\u001b[1m1/1\u001b[0m \u001b[32m━━━━━━━━━━━━━━━━━━━━\u001b[0m\u001b[37m\u001b[0m \u001b[1m0s\u001b[0m 22ms/step\n",
            "\u001b[1m1/1\u001b[0m \u001b[32m━━━━━━━━━━━━━━━━━━━━\u001b[0m\u001b[37m\u001b[0m \u001b[1m0s\u001b[0m 19ms/step\n",
            "\u001b[1m1/1\u001b[0m \u001b[32m━━━━━━━━━━━━━━━━━━━━\u001b[0m\u001b[37m\u001b[0m \u001b[1m0s\u001b[0m 16ms/step\n",
            "\u001b[1m1/1\u001b[0m \u001b[32m━━━━━━━━━━━━━━━━━━━━\u001b[0m\u001b[37m\u001b[0m \u001b[1m0s\u001b[0m 16ms/step\n",
            "\u001b[1m1/1\u001b[0m \u001b[32m━━━━━━━━━━━━━━━━━━━━\u001b[0m\u001b[37m\u001b[0m \u001b[1m0s\u001b[0m 16ms/step\n",
            "\u001b[1m1/1\u001b[0m \u001b[32m━━━━━━━━━━━━━━━━━━━━\u001b[0m\u001b[37m\u001b[0m \u001b[1m0s\u001b[0m 18ms/step\n",
            "\u001b[1m1/1\u001b[0m \u001b[32m━━━━━━━━━━━━━━━━━━━━\u001b[0m\u001b[37m\u001b[0m \u001b[1m0s\u001b[0m 24ms/step\n",
            "\u001b[1m1/1\u001b[0m \u001b[32m━━━━━━━━━━━━━━━━━━━━\u001b[0m\u001b[37m\u001b[0m \u001b[1m0s\u001b[0m 16ms/step\n",
            "\u001b[1m1/1\u001b[0m \u001b[32m━━━━━━━━━━━━━━━━━━━━\u001b[0m\u001b[37m\u001b[0m \u001b[1m0s\u001b[0m 15ms/step\n",
            "\u001b[1m1/1\u001b[0m \u001b[32m━━━━━━━━━━━━━━━━━━━━\u001b[0m\u001b[37m\u001b[0m \u001b[1m0s\u001b[0m 19ms/step\n",
            "\u001b[1m1/1\u001b[0m \u001b[32m━━━━━━━━━━━━━━━━━━━━\u001b[0m\u001b[37m\u001b[0m \u001b[1m0s\u001b[0m 17ms/step\n",
            "\u001b[1m1/1\u001b[0m \u001b[32m━━━━━━━━━━━━━━━━━━━━\u001b[0m\u001b[37m\u001b[0m \u001b[1m0s\u001b[0m 15ms/step\n",
            "\u001b[1m1/1\u001b[0m \u001b[32m━━━━━━━━━━━━━━━━━━━━\u001b[0m\u001b[37m\u001b[0m \u001b[1m0s\u001b[0m 15ms/step\n",
            "\u001b[1m1/1\u001b[0m \u001b[32m━━━━━━━━━━━━━━━━━━━━\u001b[0m\u001b[37m\u001b[0m \u001b[1m0s\u001b[0m 16ms/step\n",
            "\u001b[1m1/1\u001b[0m \u001b[32m━━━━━━━━━━━━━━━━━━━━\u001b[0m\u001b[37m\u001b[0m \u001b[1m0s\u001b[0m 15ms/step\n",
            "\u001b[1m1/1\u001b[0m \u001b[32m━━━━━━━━━━━━━━━━━━━━\u001b[0m\u001b[37m\u001b[0m \u001b[1m0s\u001b[0m 17ms/step\n",
            "\u001b[1m1/1\u001b[0m \u001b[32m━━━━━━━━━━━━━━━━━━━━\u001b[0m\u001b[37m\u001b[0m \u001b[1m0s\u001b[0m 17ms/step\n",
            "\u001b[1m1/1\u001b[0m \u001b[32m━━━━━━━━━━━━━━━━━━━━\u001b[0m\u001b[37m\u001b[0m \u001b[1m0s\u001b[0m 20ms/step\n",
            "\u001b[1m1/1\u001b[0m \u001b[32m━━━━━━━━━━━━━━━━━━━━\u001b[0m\u001b[37m\u001b[0m \u001b[1m0s\u001b[0m 20ms/step\n",
            "\u001b[1m1/1\u001b[0m \u001b[32m━━━━━━━━━━━━━━━━━━━━\u001b[0m\u001b[37m\u001b[0m \u001b[1m0s\u001b[0m 16ms/step\n",
            "\u001b[1m1/1\u001b[0m \u001b[32m━━━━━━━━━━━━━━━━━━━━\u001b[0m\u001b[37m\u001b[0m \u001b[1m0s\u001b[0m 20ms/step\n",
            "\u001b[1m1/1\u001b[0m \u001b[32m━━━━━━━━━━━━━━━━━━━━\u001b[0m\u001b[37m\u001b[0m \u001b[1m0s\u001b[0m 18ms/step\n",
            "\u001b[1m1/1\u001b[0m \u001b[32m━━━━━━━━━━━━━━━━━━━━\u001b[0m\u001b[37m\u001b[0m \u001b[1m0s\u001b[0m 18ms/step\n",
            "\u001b[1m1/1\u001b[0m \u001b[32m━━━━━━━━━━━━━━━━━━━━\u001b[0m\u001b[37m\u001b[0m \u001b[1m0s\u001b[0m 16ms/step\n",
            "\u001b[1m1/1\u001b[0m \u001b[32m━━━━━━━━━━━━━━━━━━━━\u001b[0m\u001b[37m\u001b[0m \u001b[1m0s\u001b[0m 16ms/step\n",
            "\u001b[1m1/1\u001b[0m \u001b[32m━━━━━━━━━━━━━━━━━━━━\u001b[0m\u001b[37m\u001b[0m \u001b[1m0s\u001b[0m 19ms/step\n",
            "\u001b[1m1/1\u001b[0m \u001b[32m━━━━━━━━━━━━━━━━━━━━\u001b[0m\u001b[37m\u001b[0m \u001b[1m0s\u001b[0m 16ms/step\n",
            "\u001b[1m1/1\u001b[0m \u001b[32m━━━━━━━━━━━━━━━━━━━━\u001b[0m\u001b[37m\u001b[0m \u001b[1m0s\u001b[0m 16ms/step\n",
            "\u001b[1m1/1\u001b[0m \u001b[32m━━━━━━━━━━━━━━━━━━━━\u001b[0m\u001b[37m\u001b[0m \u001b[1m0s\u001b[0m 17ms/step\n",
            "\u001b[1m1/1\u001b[0m \u001b[32m━━━━━━━━━━━━━━━━━━━━\u001b[0m\u001b[37m\u001b[0m \u001b[1m0s\u001b[0m 16ms/step\n",
            "\u001b[1m1/1\u001b[0m \u001b[32m━━━━━━━━━━━━━━━━━━━━\u001b[0m\u001b[37m\u001b[0m \u001b[1m0s\u001b[0m 17ms/step\n",
            "\u001b[1m1/1\u001b[0m \u001b[32m━━━━━━━━━━━━━━━━━━━━\u001b[0m\u001b[37m\u001b[0m \u001b[1m0s\u001b[0m 17ms/step\n",
            "\u001b[1m1/1\u001b[0m \u001b[32m━━━━━━━━━━━━━━━━━━━━\u001b[0m\u001b[37m\u001b[0m \u001b[1m0s\u001b[0m 19ms/step\n",
            "\u001b[1m1/1\u001b[0m \u001b[32m━━━━━━━━━━━━━━━━━━━━\u001b[0m\u001b[37m\u001b[0m \u001b[1m0s\u001b[0m 18ms/step\n",
            "\u001b[1m1/1\u001b[0m \u001b[32m━━━━━━━━━━━━━━━━━━━━\u001b[0m\u001b[37m\u001b[0m \u001b[1m0s\u001b[0m 15ms/step\n",
            "\u001b[1m1/1\u001b[0m \u001b[32m━━━━━━━━━━━━━━━━━━━━\u001b[0m\u001b[37m\u001b[0m \u001b[1m0s\u001b[0m 14ms/step\n",
            "\u001b[1m1/1\u001b[0m \u001b[32m━━━━━━━━━━━━━━━━━━━━\u001b[0m\u001b[37m\u001b[0m \u001b[1m0s\u001b[0m 14ms/step\n",
            "\u001b[1m1/1\u001b[0m \u001b[32m━━━━━━━━━━━━━━━━━━━━\u001b[0m\u001b[37m\u001b[0m \u001b[1m0s\u001b[0m 15ms/step\n",
            "\u001b[1m1/1\u001b[0m \u001b[32m━━━━━━━━━━━━━━━━━━━━\u001b[0m\u001b[37m\u001b[0m \u001b[1m0s\u001b[0m 15ms/step\n",
            "\u001b[1m1/1\u001b[0m \u001b[32m━━━━━━━━━━━━━━━━━━━━\u001b[0m\u001b[37m\u001b[0m \u001b[1m0s\u001b[0m 16ms/step\n",
            "\u001b[1m1/1\u001b[0m \u001b[32m━━━━━━━━━━━━━━━━━━━━\u001b[0m\u001b[37m\u001b[0m \u001b[1m0s\u001b[0m 16ms/step\n",
            "\u001b[1m1/1\u001b[0m \u001b[32m━━━━━━━━━━━━━━━━━━━━\u001b[0m\u001b[37m\u001b[0m \u001b[1m0s\u001b[0m 19ms/step\n",
            "\u001b[1m1/1\u001b[0m \u001b[32m━━━━━━━━━━━━━━━━━━━━\u001b[0m\u001b[37m\u001b[0m \u001b[1m0s\u001b[0m 16ms/step\n",
            "\u001b[1m1/1\u001b[0m \u001b[32m━━━━━━━━━━━━━━━━━━━━\u001b[0m\u001b[37m\u001b[0m \u001b[1m0s\u001b[0m 16ms/step\n",
            "\u001b[1m1/1\u001b[0m \u001b[32m━━━━━━━━━━━━━━━━━━━━\u001b[0m\u001b[37m\u001b[0m \u001b[1m0s\u001b[0m 16ms/step\n",
            "\u001b[1m1/1\u001b[0m \u001b[32m━━━━━━━━━━━━━━━━━━━━\u001b[0m\u001b[37m\u001b[0m \u001b[1m0s\u001b[0m 15ms/step\n",
            "\u001b[1m1/1\u001b[0m \u001b[32m━━━━━━━━━━━━━━━━━━━━\u001b[0m\u001b[37m\u001b[0m \u001b[1m0s\u001b[0m 16ms/step\n",
            "\u001b[1m1/1\u001b[0m \u001b[32m━━━━━━━━━━━━━━━━━━━━\u001b[0m\u001b[37m\u001b[0m \u001b[1m0s\u001b[0m 15ms/step\n",
            "\u001b[1m1/1\u001b[0m \u001b[32m━━━━━━━━━━━━━━━━━━━━\u001b[0m\u001b[37m\u001b[0m \u001b[1m0s\u001b[0m 15ms/step\n",
            "\u001b[1m1/1\u001b[0m \u001b[32m━━━━━━━━━━━━━━━━━━━━\u001b[0m\u001b[37m\u001b[0m \u001b[1m0s\u001b[0m 18ms/step\n",
            "\u001b[1m1/1\u001b[0m \u001b[32m━━━━━━━━━━━━━━━━━━━━\u001b[0m\u001b[37m\u001b[0m \u001b[1m0s\u001b[0m 17ms/step\n",
            "\u001b[1m1/1\u001b[0m \u001b[32m━━━━━━━━━━━━━━━━━━━━\u001b[0m\u001b[37m\u001b[0m \u001b[1m0s\u001b[0m 17ms/step\n",
            "\u001b[1m1/1\u001b[0m \u001b[32m━━━━━━━━━━━━━━━━━━━━\u001b[0m\u001b[37m\u001b[0m \u001b[1m0s\u001b[0m 26ms/step\n",
            "\u001b[1m1/1\u001b[0m \u001b[32m━━━━━━━━━━━━━━━━━━━━\u001b[0m\u001b[37m\u001b[0m \u001b[1m0s\u001b[0m 23ms/step\n",
            "\u001b[1m1/1\u001b[0m \u001b[32m━━━━━━━━━━━━━━━━━━━━\u001b[0m\u001b[37m\u001b[0m \u001b[1m0s\u001b[0m 24ms/step\n",
            "\u001b[1m1/1\u001b[0m \u001b[32m━━━━━━━━━━━━━━━━━━━━\u001b[0m\u001b[37m\u001b[0m \u001b[1m0s\u001b[0m 31ms/step\n",
            "\u001b[1m1/1\u001b[0m \u001b[32m━━━━━━━━━━━━━━━━━━━━\u001b[0m\u001b[37m\u001b[0m \u001b[1m0s\u001b[0m 24ms/step\n",
            "\u001b[1m1/1\u001b[0m \u001b[32m━━━━━━━━━━━━━━━━━━━━\u001b[0m\u001b[37m\u001b[0m \u001b[1m0s\u001b[0m 23ms/step\n",
            "\u001b[1m1/1\u001b[0m \u001b[32m━━━━━━━━━━━━━━━━━━━━\u001b[0m\u001b[37m\u001b[0m \u001b[1m0s\u001b[0m 23ms/step\n",
            "\u001b[1m1/1\u001b[0m \u001b[32m━━━━━━━━━━━━━━━━━━━━\u001b[0m\u001b[37m\u001b[0m \u001b[1m0s\u001b[0m 28ms/step\n",
            "\u001b[1m1/1\u001b[0m \u001b[32m━━━━━━━━━━━━━━━━━━━━\u001b[0m\u001b[37m\u001b[0m \u001b[1m0s\u001b[0m 22ms/step\n",
            "\u001b[1m1/1\u001b[0m \u001b[32m━━━━━━━━━━━━━━━━━━━━\u001b[0m\u001b[37m\u001b[0m \u001b[1m0s\u001b[0m 22ms/step\n",
            "\u001b[1m1/1\u001b[0m \u001b[32m━━━━━━━━━━━━━━━━━━━━\u001b[0m\u001b[37m\u001b[0m \u001b[1m0s\u001b[0m 30ms/step\n",
            "\u001b[1m1/1\u001b[0m \u001b[32m━━━━━━━━━━━━━━━━━━━━\u001b[0m\u001b[37m\u001b[0m \u001b[1m0s\u001b[0m 23ms/step\n",
            "\u001b[1m1/1\u001b[0m \u001b[32m━━━━━━━━━━━━━━━━━━━━\u001b[0m\u001b[37m\u001b[0m \u001b[1m0s\u001b[0m 26ms/step\n",
            "\u001b[1m1/1\u001b[0m \u001b[32m━━━━━━━━━━━━━━━━━━━━\u001b[0m\u001b[37m\u001b[0m \u001b[1m0s\u001b[0m 26ms/step\n",
            "\u001b[1m1/1\u001b[0m \u001b[32m━━━━━━━━━━━━━━━━━━━━\u001b[0m\u001b[37m\u001b[0m \u001b[1m0s\u001b[0m 25ms/step\n",
            "\u001b[1m1/1\u001b[0m \u001b[32m━━━━━━━━━━━━━━━━━━━━\u001b[0m\u001b[37m\u001b[0m \u001b[1m0s\u001b[0m 23ms/step\n",
            "\u001b[1m1/1\u001b[0m \u001b[32m━━━━━━━━━━━━━━━━━━━━\u001b[0m\u001b[37m\u001b[0m \u001b[1m0s\u001b[0m 24ms/step\n",
            "\u001b[1m1/1\u001b[0m \u001b[32m━━━━━━━━━━━━━━━━━━━━\u001b[0m\u001b[37m\u001b[0m \u001b[1m0s\u001b[0m 23ms/step\n",
            "\u001b[1m1/1\u001b[0m \u001b[32m━━━━━━━━━━━━━━━━━━━━\u001b[0m\u001b[37m\u001b[0m \u001b[1m0s\u001b[0m 24ms/step\n",
            "\u001b[1m1/1\u001b[0m \u001b[32m━━━━━━━━━━━━━━━━━━━━\u001b[0m\u001b[37m\u001b[0m \u001b[1m0s\u001b[0m 23ms/step\n",
            "\u001b[1m1/1\u001b[0m \u001b[32m━━━━━━━━━━━━━━━━━━━━\u001b[0m\u001b[37m\u001b[0m \u001b[1m0s\u001b[0m 22ms/step\n",
            "\u001b[1m1/1\u001b[0m \u001b[32m━━━━━━━━━━━━━━━━━━━━\u001b[0m\u001b[37m\u001b[0m \u001b[1m0s\u001b[0m 25ms/step\n",
            "\u001b[1m1/1\u001b[0m \u001b[32m━━━━━━━━━━━━━━━━━━━━\u001b[0m\u001b[37m\u001b[0m \u001b[1m0s\u001b[0m 23ms/step\n",
            "\u001b[1m1/1\u001b[0m \u001b[32m━━━━━━━━━━━━━━━━━━━━\u001b[0m\u001b[37m\u001b[0m \u001b[1m0s\u001b[0m 22ms/step\n",
            "\u001b[1m1/1\u001b[0m \u001b[32m━━━━━━━━━━━━━━━━━━━━\u001b[0m\u001b[37m\u001b[0m \u001b[1m0s\u001b[0m 26ms/step\n",
            "\u001b[1m1/1\u001b[0m \u001b[32m━━━━━━━━━━━━━━━━━━━━\u001b[0m\u001b[37m\u001b[0m \u001b[1m0s\u001b[0m 21ms/step\n",
            "\u001b[1m1/1\u001b[0m \u001b[32m━━━━━━━━━━━━━━━━━━━━\u001b[0m\u001b[37m\u001b[0m \u001b[1m0s\u001b[0m 23ms/step\n",
            "\u001b[1m1/1\u001b[0m \u001b[32m━━━━━━━━━━━━━━━━━━━━\u001b[0m\u001b[37m\u001b[0m \u001b[1m0s\u001b[0m 24ms/step\n",
            "\u001b[1m1/1\u001b[0m \u001b[32m━━━━━━━━━━━━━━━━━━━━\u001b[0m\u001b[37m\u001b[0m \u001b[1m0s\u001b[0m 29ms/step\n",
            "\u001b[1m1/1\u001b[0m \u001b[32m━━━━━━━━━━━━━━━━━━━━\u001b[0m\u001b[37m\u001b[0m \u001b[1m0s\u001b[0m 25ms/step\n",
            "\u001b[1m1/1\u001b[0m \u001b[32m━━━━━━━━━━━━━━━━━━━━\u001b[0m\u001b[37m\u001b[0m \u001b[1m0s\u001b[0m 26ms/step\n",
            "\u001b[1m1/1\u001b[0m \u001b[32m━━━━━━━━━━━━━━━━━━━━\u001b[0m\u001b[37m\u001b[0m \u001b[1m0s\u001b[0m 23ms/step\n",
            "\u001b[1m1/1\u001b[0m \u001b[32m━━━━━━━━━━━━━━━━━━━━\u001b[0m\u001b[37m\u001b[0m \u001b[1m0s\u001b[0m 24ms/step\n",
            "\u001b[1m1/1\u001b[0m \u001b[32m━━━━━━━━━━━━━━━━━━━━\u001b[0m\u001b[37m\u001b[0m \u001b[1m0s\u001b[0m 24ms/step\n",
            "\u001b[1m1/1\u001b[0m \u001b[32m━━━━━━━━━━━━━━━━━━━━\u001b[0m\u001b[37m\u001b[0m \u001b[1m0s\u001b[0m 33ms/step\n",
            "\u001b[1m1/1\u001b[0m \u001b[32m━━━━━━━━━━━━━━━━━━━━\u001b[0m\u001b[37m\u001b[0m \u001b[1m0s\u001b[0m 23ms/step\n",
            "\u001b[1m1/1\u001b[0m \u001b[32m━━━━━━━━━━━━━━━━━━━━\u001b[0m\u001b[37m\u001b[0m \u001b[1m0s\u001b[0m 24ms/step\n",
            "\u001b[1m1/1\u001b[0m \u001b[32m━━━━━━━━━━━━━━━━━━━━\u001b[0m\u001b[37m\u001b[0m \u001b[1m0s\u001b[0m 24ms/step\n",
            "\u001b[1m1/1\u001b[0m \u001b[32m━━━━━━━━━━━━━━━━━━━━\u001b[0m\u001b[37m\u001b[0m \u001b[1m0s\u001b[0m 41ms/step\n",
            "\u001b[1m1/1\u001b[0m \u001b[32m━━━━━━━━━━━━━━━━━━━━\u001b[0m\u001b[37m\u001b[0m \u001b[1m0s\u001b[0m 27ms/step\n",
            "\u001b[1m1/1\u001b[0m \u001b[32m━━━━━━━━━━━━━━━━━━━━\u001b[0m\u001b[37m\u001b[0m \u001b[1m0s\u001b[0m 30ms/step\n",
            "\u001b[1m1/1\u001b[0m \u001b[32m━━━━━━━━━━━━━━━━━━━━\u001b[0m\u001b[37m\u001b[0m \u001b[1m0s\u001b[0m 26ms/step\n",
            "\u001b[1m1/1\u001b[0m \u001b[32m━━━━━━━━━━━━━━━━━━━━\u001b[0m\u001b[37m\u001b[0m \u001b[1m0s\u001b[0m 22ms/step\n",
            "\u001b[1m1/1\u001b[0m \u001b[32m━━━━━━━━━━━━━━━━━━━━\u001b[0m\u001b[37m\u001b[0m \u001b[1m0s\u001b[0m 15ms/step\n",
            "\u001b[1m1/1\u001b[0m \u001b[32m━━━━━━━━━━━━━━━━━━━━\u001b[0m\u001b[37m\u001b[0m \u001b[1m0s\u001b[0m 15ms/step\n",
            "\u001b[1m1/1\u001b[0m \u001b[32m━━━━━━━━━━━━━━━━━━━━\u001b[0m\u001b[37m\u001b[0m \u001b[1m0s\u001b[0m 16ms/step\n",
            "\u001b[1m1/1\u001b[0m \u001b[32m━━━━━━━━━━━━━━━━━━━━\u001b[0m\u001b[37m\u001b[0m \u001b[1m0s\u001b[0m 20ms/step\n",
            "\u001b[1m1/1\u001b[0m \u001b[32m━━━━━━━━━━━━━━━━━━━━\u001b[0m\u001b[37m\u001b[0m \u001b[1m0s\u001b[0m 16ms/step\n",
            "\u001b[1m1/1\u001b[0m \u001b[32m━━━━━━━━━━━━━━━━━━━━\u001b[0m\u001b[37m\u001b[0m \u001b[1m0s\u001b[0m 16ms/step\n",
            "\u001b[1m1/1\u001b[0m \u001b[32m━━━━━━━━━━━━━━━━━━━━\u001b[0m\u001b[37m\u001b[0m \u001b[1m0s\u001b[0m 17ms/step\n",
            "\u001b[1m1/1\u001b[0m \u001b[32m━━━━━━━━━━━━━━━━━━━━\u001b[0m\u001b[37m\u001b[0m \u001b[1m0s\u001b[0m 15ms/step\n",
            "\u001b[1m1/1\u001b[0m \u001b[32m━━━━━━━━━━━━━━━━━━━━\u001b[0m\u001b[37m\u001b[0m \u001b[1m0s\u001b[0m 15ms/step\n",
            "\u001b[1m1/1\u001b[0m \u001b[32m━━━━━━━━━━━━━━━━━━━━\u001b[0m\u001b[37m\u001b[0m \u001b[1m0s\u001b[0m 15ms/step\n",
            "\u001b[1m1/1\u001b[0m \u001b[32m━━━━━━━━━━━━━━━━━━━━\u001b[0m\u001b[37m\u001b[0m \u001b[1m0s\u001b[0m 15ms/step\n",
            "\u001b[1m1/1\u001b[0m \u001b[32m━━━━━━━━━━━━━━━━━━━━\u001b[0m\u001b[37m\u001b[0m \u001b[1m0s\u001b[0m 15ms/step\n",
            "\u001b[1m1/1\u001b[0m \u001b[32m━━━━━━━━━━━━━━━━━━━━\u001b[0m\u001b[37m\u001b[0m \u001b[1m0s\u001b[0m 15ms/step\n",
            "\u001b[1m1/1\u001b[0m \u001b[32m━━━━━━━━━━━━━━━━━━━━\u001b[0m\u001b[37m\u001b[0m \u001b[1m0s\u001b[0m 14ms/step\n",
            "\u001b[1m1/1\u001b[0m \u001b[32m━━━━━━━━━━━━━━━━━━━━\u001b[0m\u001b[37m\u001b[0m \u001b[1m0s\u001b[0m 16ms/step\n",
            "\u001b[1m1/1\u001b[0m \u001b[32m━━━━━━━━━━━━━━━━━━━━\u001b[0m\u001b[37m\u001b[0m \u001b[1m0s\u001b[0m 15ms/step\n",
            "\u001b[1m1/1\u001b[0m \u001b[32m━━━━━━━━━━━━━━━━━━━━\u001b[0m\u001b[37m\u001b[0m \u001b[1m0s\u001b[0m 16ms/step\n",
            "\u001b[1m1/1\u001b[0m \u001b[32m━━━━━━━━━━━━━━━━━━━━\u001b[0m\u001b[37m\u001b[0m \u001b[1m0s\u001b[0m 16ms/step\n",
            "\u001b[1m1/1\u001b[0m \u001b[32m━━━━━━━━━━━━━━━━━━━━\u001b[0m\u001b[37m\u001b[0m \u001b[1m0s\u001b[0m 16ms/step\n",
            "\u001b[1m1/1\u001b[0m \u001b[32m━━━━━━━━━━━━━━━━━━━━\u001b[0m\u001b[37m\u001b[0m \u001b[1m0s\u001b[0m 20ms/step\n",
            "\u001b[1m1/1\u001b[0m \u001b[32m━━━━━━━━━━━━━━━━━━━━\u001b[0m\u001b[37m\u001b[0m \u001b[1m0s\u001b[0m 19ms/step\n",
            "\u001b[1m1/1\u001b[0m \u001b[32m━━━━━━━━━━━━━━━━━━━━\u001b[0m\u001b[37m\u001b[0m \u001b[1m0s\u001b[0m 16ms/step\n",
            "\u001b[1m1/1\u001b[0m \u001b[32m━━━━━━━━━━━━━━━━━━━━\u001b[0m\u001b[37m\u001b[0m \u001b[1m0s\u001b[0m 17ms/step\n",
            "\u001b[1m1/1\u001b[0m \u001b[32m━━━━━━━━━━━━━━━━━━━━\u001b[0m\u001b[37m\u001b[0m \u001b[1m0s\u001b[0m 15ms/step\n",
            "\u001b[1m1/1\u001b[0m \u001b[32m━━━━━━━━━━━━━━━━━━━━\u001b[0m\u001b[37m\u001b[0m \u001b[1m0s\u001b[0m 15ms/step\n"
          ]
        }
      ]
    },
    {
      "cell_type": "code",
      "source": [
        "print(X_test.shape[0], count, ((X_test.shape[0] - count) / X_test.shape[0] * 100))"
      ],
      "metadata": {
        "colab": {
          "base_uri": "https://localhost:8080/"
        },
        "id": "nM10q5VKBs1l",
        "outputId": "ed8279f5-a198-416a-d55f-f6fc5365f91d"
      },
      "execution_count": null,
      "outputs": [
        {
          "output_type": "stream",
          "name": "stdout",
          "text": [
            "160 27 83.125\n"
          ]
        }
      ]
    },
    {
      "cell_type": "markdown",
      "source": [
        "Таким образом точность нашей модели на тестовой выборке составила 83.125 процентов, мне кажется точность могла улучшиться, если бы мы распологали большим количеством данных, хотя-бы в 2 раза больше."
      ],
      "metadata": {
        "id": "WaOAxZ1rGk0q"
      }
    }
  ]
}